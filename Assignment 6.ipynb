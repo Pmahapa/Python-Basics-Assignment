{
 "cells": [
  {
   "cell_type": "markdown",
   "id": "a66a6247-2520-4efa-a545-babc48a23070",
   "metadata": {},
   "source": [
    "1. What are escape characters, and how do you use them?"
   ]
  },
  {
   "cell_type": "markdown",
   "id": "cd2afb56-2cf0-4eda-b07e-29bc6483e75d",
   "metadata": {},
   "source": [
    "Answer: In Python strings, the backslash \" \\ \" is a special character, also called the \"escape\" character. It is used in representing certain whitespace characters: \"\\t\" is a tab, \"\\n\" is a newline, and \"\\r\" is a carriage return. Conversely, prefixing a special character with \"\\ \" turns it into an ordinary character.\n",
    "\n"
   ]
  },
  {
   "cell_type": "markdown",
   "id": "57666527-db58-4d76-a213-528224ed23d9",
   "metadata": {},
   "source": [
    "2. What do the escape characters n and t stand for?"
   ]
  },
  {
   "cell_type": "markdown",
   "id": "e6fbfd64-5caa-4f6c-ab40-8dd804b992ca",
   "metadata": {},
   "source": [
    "Answer: The \"n\" stands for new line and \"t\" stands for tab."
   ]
  },
  {
   "cell_type": "markdown",
   "id": "42689786-ec50-4c86-871a-fa4a63b0a0d9",
   "metadata": {},
   "source": [
    "3. What is the way to include backslash characters in a string?"
   ]
  },
  {
   "cell_type": "markdown",
   "id": "5d0c7b98-bdd3-47a4-a0a1-d2872514738c",
   "metadata": {},
   "source": [
    "Answer: We can insert the backslash \"\\ \" in the string as it's a escape character the \"\\ \" followed by the chracter for ex: \"\\t\", \"\\n\""
   ]
  },
  {
   "cell_type": "markdown",
   "id": "cb726668-1f82-4d23-8c90-ad4e7c63a933",
   "metadata": {},
   "source": [
    "4. The string &quot;Howl&#39;s Moving Castle&quot; is a correct value. Why isn&#39;t the single quote character in the\n",
    "word Howl&#39;s not escaped a problem?"
   ]
  },
  {
   "cell_type": "code",
   "execution_count": 3,
   "id": "d215c175-2781-4177-b5b9-629c8dae62e1",
   "metadata": {},
   "outputs": [
    {
     "data": {
      "text/plain": [
       "\"Howl's Moving Castle\""
      ]
     },
     "execution_count": 3,
     "metadata": {},
     "output_type": "execute_result"
    }
   ],
   "source": [
    "\"Howl's Moving Castle\""
   ]
  },
  {
   "cell_type": "markdown",
   "id": "b158bce7-374c-4c65-be64-2d85c5fc3ad5",
   "metadata": {},
   "source": [
    "Answer: The single quote in Howl's is fine because we've used double quotes to mark the beginning and end of the string."
   ]
  },
  {
   "cell_type": "markdown",
   "id": "d6484396-4723-4476-9341-95967e145f6c",
   "metadata": {},
   "source": [
    "5. How do you write a string of newlines if you don&#39;t want to use the n character?"
   ]
  },
  {
   "cell_type": "markdown",
   "id": "9e7bcc22-4e9a-4ef9-b6aa-e00c329f9513",
   "metadata": {},
   "source": [
    "Answer: We can use \"end\" and set to \" \" in order to got to new line without using n"
   ]
  },
  {
   "cell_type": "markdown",
   "id": "e11d9ea6-77c6-4194-b988-1f1633a3a63f",
   "metadata": {},
   "source": [
    "6. What are the values of the given expressions?\n",
    "\n",
    "'Hello, world!'[1]\n",
    "\n",
    "'Hello, world!'[0:5]\n",
    "\n",
    "'Hello, world!'[:5]\n",
    "\n",
    "'Hello, world!'[3:]"
   ]
  },
  {
   "cell_type": "code",
   "execution_count": 6,
   "id": "ba352f02-6e1b-4c43-9d41-5c4acddb435c",
   "metadata": {},
   "outputs": [
    {
     "data": {
      "text/plain": [
       "'e'"
      ]
     },
     "execution_count": 6,
     "metadata": {},
     "output_type": "execute_result"
    }
   ],
   "source": [
    "'Hello, world!'[1]"
   ]
  },
  {
   "cell_type": "code",
   "execution_count": 7,
   "id": "236cf06d-784e-4a7f-b9cf-21a227136693",
   "metadata": {},
   "outputs": [
    {
     "data": {
      "text/plain": [
       "'Hello'"
      ]
     },
     "execution_count": 7,
     "metadata": {},
     "output_type": "execute_result"
    }
   ],
   "source": [
    "'Hello, world!'[0:5]"
   ]
  },
  {
   "cell_type": "code",
   "execution_count": 8,
   "id": "9616e74a-2e8a-4ea9-b912-4c4dc6d3557b",
   "metadata": {},
   "outputs": [
    {
     "data": {
      "text/plain": [
       "'Hello'"
      ]
     },
     "execution_count": 8,
     "metadata": {},
     "output_type": "execute_result"
    }
   ],
   "source": [
    "'Hello, world!'[:5]"
   ]
  },
  {
   "cell_type": "code",
   "execution_count": 9,
   "id": "0c2ace19-a05e-42ee-a382-6bfc0b36770f",
   "metadata": {},
   "outputs": [
    {
     "data": {
      "text/plain": [
       "'lo, world!'"
      ]
     },
     "execution_count": 9,
     "metadata": {},
     "output_type": "execute_result"
    }
   ],
   "source": [
    "'Hello, world!'[3:]"
   ]
  },
  {
   "cell_type": "markdown",
   "id": "14794b56-0327-49e0-ad72-4dcb268a90e1",
   "metadata": {},
   "source": [
    "7. What are the values of the following expressions?\n",
    "\n",
    "'Hello'.upper()\n",
    "\n",
    "'Hello'.upper().isupper()\n",
    "\n",
    "'Hello'.upper().lower()\n",
    "\n"
   ]
  },
  {
   "cell_type": "code",
   "execution_count": 14,
   "id": "00285940-0c14-4911-a414-841fb7b16349",
   "metadata": {},
   "outputs": [
    {
     "data": {
      "text/plain": [
       "'HELLO'"
      ]
     },
     "execution_count": 14,
     "metadata": {},
     "output_type": "execute_result"
    }
   ],
   "source": [
    "'Hello'.upper()  #converts all the strng characters to upper case"
   ]
  },
  {
   "cell_type": "code",
   "execution_count": 15,
   "id": "74c7cf14-4676-4bf1-9270-4ba6b0eadb19",
   "metadata": {},
   "outputs": [
    {
     "data": {
      "text/plain": [
       "True"
      ]
     },
     "execution_count": 15,
     "metadata": {},
     "output_type": "execute_result"
    }
   ],
   "source": [
    "'Hello'.upper().isupper() #upper() converts to upper case, isupper() checks if the string is in upper case or not"
   ]
  },
  {
   "cell_type": "code",
   "execution_count": 16,
   "id": "96767f09-711c-4eb4-9a1a-44974f0ba0d1",
   "metadata": {},
   "outputs": [
    {
     "data": {
      "text/plain": [
       "'hello'"
      ]
     },
     "execution_count": 16,
     "metadata": {},
     "output_type": "execute_result"
    }
   ],
   "source": [
    "'Hello'.upper().lower() #converts to upper and then to lower"
   ]
  },
  {
   "cell_type": "markdown",
   "id": "1fa0d055-47d5-46a8-a980-6f614c414ce4",
   "metadata": {},
   "source": [
    "8. What are the values of the following expressions?\n",
    "\n",
    "'Remember, remember, the fifth of July.'.split()\n",
    "\n",
    "'-'.join('There can only one.'.split())"
   ]
  },
  {
   "cell_type": "code",
   "execution_count": 17,
   "id": "e6c41c97-3803-447f-990d-08b2d97786c6",
   "metadata": {},
   "outputs": [
    {
     "data": {
      "text/plain": [
       "['Remember,', 'remember,', 'the', 'fifth', 'of', 'July.']"
      ]
     },
     "execution_count": 17,
     "metadata": {},
     "output_type": "execute_result"
    }
   ],
   "source": [
    "'Remember, remember, the fifth of July.'.split() #splits the string into a list objects"
   ]
  },
  {
   "cell_type": "code",
   "execution_count": 18,
   "id": "f7fa6e9b-bc1a-4e17-9182-01d5fb8e5013",
   "metadata": {},
   "outputs": [
    {
     "data": {
      "text/plain": [
       "'There-can-only-one.'"
      ]
     },
     "execution_count": 18,
     "metadata": {},
     "output_type": "execute_result"
    }
   ],
   "source": [
    "'-'.join('There can only one.'.split()) #joins the string with \"-\" by replacing spaces"
   ]
  },
  {
   "cell_type": "markdown",
   "id": "4006b7f3-8443-4f38-8f38-70b1bfb53955",
   "metadata": {},
   "source": [
    "9. What are the methods for right-justifying, left-justifying, and centering a string?"
   ]
  },
  {
   "cell_type": "markdown",
   "id": "3316019d-deea-4a83-838c-ed54c9591c7e",
   "metadata": {},
   "source": [
    "syntax:\n",
    "\n",
    "String.rjust(length,fill_char)"
   ]
  },
  {
   "cell_type": "code",
   "execution_count": 19,
   "id": "901304cb-350f-4056-9a6d-1c7340233fb8",
   "metadata": {},
   "outputs": [
    {
     "name": "stdout",
     "output_type": "stream",
     "text": [
      "iNeuron\n",
      "                iNeuron                  \n",
      "\n",
      "################iNeuron#################\n"
     ]
    }
   ],
   "source": [
    "cstr = \"iNeuron\"\n",
    "  \n",
    "# Printing the original string\n",
    "print (cstr)\n",
    "  \n",
    "# Printing the center aligned string \n",
    "print (cstr.center(40), \"\\n\")\n",
    "  \n",
    "# Printing the center aligned \n",
    "# string with fillchr\n",
    "print (cstr.center(40, '#'))"
   ]
  },
  {
   "cell_type": "code",
   "execution_count": 20,
   "id": "5b05055e-34c6-43d5-aa7f-fbdd5ce63edd",
   "metadata": {},
   "outputs": [
    {
     "name": "stdout",
     "output_type": "stream",
     "text": [
      "iNeuron \n",
      "\n",
      "iNeuron---------------------------------\n"
     ]
    }
   ],
   "source": [
    "lstr = \"iNeuron\"\n",
    "  \n",
    "# Printing the original string\n",
    "print (lstr, \"\\n\")\n",
    "  \n",
    "# Printing the left aligned \n",
    "# string with \"-\" padding \n",
    "\n",
    "print (lstr.ljust(40, '-'))"
   ]
  },
  {
   "cell_type": "code",
   "execution_count": 21,
   "id": "92b4eb8a-b291-4089-9d11-6df9c533dc6d",
   "metadata": {},
   "outputs": [
    {
     "name": "stdout",
     "output_type": "stream",
     "text": [
      "iNeuron \n",
      "\n",
      "---------------------------------iNeuron\n"
     ]
    }
   ],
   "source": [
    "rstr = \"iNeuron\"\n",
    "  \n",
    "# Printing the original string\n",
    "print (rstr, \"\\n\")\n",
    "  \n",
    "# Printing the left aligned \n",
    "# string with \"-\" padding \n",
    "\n",
    "print (rstr.rjust(40, '-'))"
   ]
  },
  {
   "cell_type": "markdown",
   "id": "ab3149b6-5fcf-45e9-83a3-46f2c34740f6",
   "metadata": {},
   "source": [
    "10. What is the best way to remove whitespace characters from the start or end?"
   ]
  },
  {
   "cell_type": "code",
   "execution_count": 22,
   "id": "2be8456b-3d8a-44c8-b84b-e973dd4cb6e2",
   "metadata": {},
   "outputs": [
    {
     "name": "stdout",
     "output_type": "stream",
     "text": [
      "   iNeuron     \n",
      "iNeuron\n"
     ]
    }
   ],
   "source": [
    "str_1 = \"   iNeuron     \"\n",
    "print(str_1) #with whitespaces\n",
    "print(str_1.strip()) #white spaces removed using strip() method"
   ]
  },
  {
   "cell_type": "code",
   "execution_count": null,
   "id": "1ba07bda-144d-49ae-b6c3-736bc28dcd7d",
   "metadata": {},
   "outputs": [],
   "source": []
  }
 ],
 "metadata": {
  "kernelspec": {
   "display_name": "Python 3 (ipykernel)",
   "language": "python",
   "name": "python3"
  },
  "language_info": {
   "codemirror_mode": {
    "name": "ipython",
    "version": 3
   },
   "file_extension": ".py",
   "mimetype": "text/x-python",
   "name": "python",
   "nbconvert_exporter": "python",
   "pygments_lexer": "ipython3",
   "version": "3.10.6"
  }
 },
 "nbformat": 4,
 "nbformat_minor": 5
}
