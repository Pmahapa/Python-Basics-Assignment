{
 "cells": [
  {
   "cell_type": "markdown",
   "id": "0bd48972-62be-4bb5-b791-e44c4d9ea6d4",
   "metadata": {},
   "source": [
    "1. What is the name of the feature responsible for generating Regex objects?"
   ]
  },
  {
   "cell_type": "markdown",
   "id": "a991a645-6740-48a0-93fb-3303be2c268b",
   "metadata": {},
   "source": [
    "Answer: re.compile() function generates Regex objects"
   ]
  },
  {
   "cell_type": "markdown",
   "id": "941031c6-89f8-4476-bcc2-84a9b354c7e8",
   "metadata": {},
   "source": [
    "2. Why do raw strings often appear in Regex objects?"
   ]
  },
  {
   "cell_type": "markdown",
   "id": "fb14e2ae-828d-4bd2-adc4-626eb55d1333",
   "metadata": {},
   "source": [
    "Answer: The Raw strings are often used so that backslashes do not have to be escaped"
   ]
  },
  {
   "cell_type": "markdown",
   "id": "86271fbf-1569-4486-a429-a89c58aa2624",
   "metadata": {},
   "source": [
    "3. What is the return value of the search() method?"
   ]
  },
  {
   "cell_type": "markdown",
   "id": "ebecea79-951b-4a92-823c-aba30ca1378c",
   "metadata": {},
   "source": [
    "Answer: The search() method returns the match objects"
   ]
  },
  {
   "cell_type": "code",
   "execution_count": 1,
   "id": "1e7e90b1-700b-4f64-bb61-cad4b7014161",
   "metadata": {},
   "outputs": [
    {
     "name": "stdout",
     "output_type": "stream",
     "text": [
      "<re.Match object; span=(19, 31), match='Data Science'>\n"
     ]
    }
   ],
   "source": [
    "#ex: \n",
    "import re\n",
    "\n",
    "txt = \"iNeuron Full stack Data Science 2.0 program\"\n",
    "\n",
    "x = re.search(\"Data Science\", txt)\n",
    "\n",
    "print(x)"
   ]
  },
  {
   "cell_type": "markdown",
   "id": "4590a854-efce-476f-bc45-64e66e5fdb97",
   "metadata": {},
   "source": [
    "4. From a Match item, how do you get the actual strings that match the pattern?"
   ]
  },
  {
   "cell_type": "markdown",
   "id": "cf806f1f-a41a-48dd-ad8e-2c4946e94bcb",
   "metadata": {},
   "source": [
    "Answer: The group() method returns strings of the matched object"
   ]
  },
  {
   "cell_type": "code",
   "execution_count": 2,
   "id": "b979b6f6-9fc1-4e04-abd0-ce5acb137663",
   "metadata": {},
   "outputs": [
    {
     "name": "stdout",
     "output_type": "stream",
     "text": [
      "2642\n",
      "('957', '396', '2642')\n"
     ]
    }
   ],
   "source": [
    "import re\n",
    "\n",
    "phone_number = re.compile(r'(\\d\\d\\d)-(\\d\\d\\d)-(\\d\\d\\d\\d)')\n",
    "\n",
    "mo = phone_number.search(\"My number is 957-396-2642\")\n",
    "\n",
    "print(mo.group(3))\n",
    "print(mo.groups())"
   ]
  },
  {
   "cell_type": "markdown",
   "id": "a964a1a2-6b05-4fe1-a922-810a6e406828",
   "metadata": {},
   "source": [
    "5. In the regex which created from the r&#39;(\\d\\d\\d)-(\\d\\d\\d-\\d\\d\\d\\d)&#39;, what does group zero cover?\n",
    "Group 2? Group 1?"
   ]
  },
  {
   "cell_type": "markdown",
   "id": "1bf0d93a-b33b-459b-844b-beb618375c22",
   "metadata": {},
   "source": [
    "Answer: Group 0 is the entire match, group 1 covers the first set of parentheses, and group 2 covers the second set of parentheses."
   ]
  },
  {
   "cell_type": "markdown",
   "id": "ca892b8f-1cc3-4615-9939-158dda1f422d",
   "metadata": {},
   "source": [
    "6. In standard expression syntax, parentheses and intervals have distinct meanings. How can you tell\n",
    "a regex that you want it to fit real parentheses and periods?"
   ]
  },
  {
   "cell_type": "raw",
   "id": "e60fad56-8bc2-4d10-8fdb-4096f93ea1d9",
   "metadata": {},
   "source": [
    "Answer: Periods and parentheses can be escaped with a backslash: \\., \\(, and \\)"
   ]
  },
  {
   "cell_type": "markdown",
   "id": "ca648abd-22b1-44c5-905b-35984eef9d38",
   "metadata": {},
   "source": [
    "7. The findall() method returns a string list or a list of string tuples. What causes it to return one of\n",
    "the two options?"
   ]
  },
  {
   "cell_type": "markdown",
   "id": "131c988a-17de-4aea-95ba-6cfd03cfe5ad",
   "metadata": {},
   "source": [
    "Answer:  If the regex has no groups, a list of strings is returned. If the regex has groups, a list of tuples of strings is returned."
   ]
  },
  {
   "cell_type": "code",
   "execution_count": 3,
   "id": "35b5698a-af4f-45cd-b2ef-0ad3af83bc29",
   "metadata": {},
   "outputs": [
    {
     "name": "stdout",
     "output_type": "stream",
     "text": [
      "['Science 2']\n"
     ]
    }
   ],
   "source": [
    "import re\n",
    "\n",
    "regex = r\"[a-zA-Z]+ \\d+\" #without groups\n",
    "txt = \"iNeuron Full stack Data Science 2.0 program\"\n",
    "print(re.findall(regex,txt))"
   ]
  },
  {
   "cell_type": "code",
   "execution_count": 4,
   "id": "86c70ce9-f685-41ef-9006-f8a010b9e5a3",
   "metadata": {},
   "outputs": [
    {
     "name": "stdout",
     "output_type": "stream",
     "text": [
      "[('Science', '2')]\n"
     ]
    }
   ],
   "source": [
    "import re\n",
    "\n",
    "regex = r\"([a-zA-Z]+) (\\d+)\" #with groups\n",
    "txt = \"iNeuron Full stack Data Science 2.0 program\"\n",
    "print(re.findall(regex,txt))"
   ]
  },
  {
   "cell_type": "markdown",
   "id": "5101072a-a521-4911-a8ae-af41b99dbbd8",
   "metadata": {},
   "source": [
    "8. In standard expressions, what does the | character mean?"
   ]
  },
  {
   "cell_type": "markdown",
   "id": "37b29bb4-8580-4080-9b2c-8b2594a1bf4c",
   "metadata": {},
   "source": [
    "The | character signifies matching \"either, or\" between two groups."
   ]
  },
  {
   "cell_type": "code",
   "execution_count": 1,
   "id": "c2db34d5-489f-4f05-8950-7f8522bccc7b",
   "metadata": {},
   "outputs": [
    {
     "name": "stdout",
     "output_type": "stream",
     "text": [
      "Batman\n"
     ]
    }
   ],
   "source": [
    "#ex \n",
    "\n",
    "import re\n",
    "heroRegex = re.compile (r'Batman|Tina Fey')\n",
    "mo1 = heroRegex.search('Batman and Tina Fey.')\n",
    "print(mo1.group())"
   ]
  },
  {
   "cell_type": "markdown",
   "id": "3f154256-bd49-40a9-89cf-127f34e2be0e",
   "metadata": {},
   "source": [
    "9. In regular expressions, what does the character stand for?"
   ]
  },
  {
   "cell_type": "markdown",
   "id": "d9be2cdd-7719-4efc-bca6-5b87182f9776",
   "metadata": {},
   "source": [
    "Answer: The | character signifies matching \"either, or\" between two groups."
   ]
  },
  {
   "cell_type": "markdown",
   "id": "89bc65bb-54bc-4f2e-998a-cbd149e7b671",
   "metadata": {},
   "source": [
    "10.In regular expressions, what is the difference between the + and * characters?"
   ]
  },
  {
   "cell_type": "code",
   "execution_count": 2,
   "id": "ed6434fc-dbfb-4446-967c-409681807c78",
   "metadata": {},
   "outputs": [
    {
     "ename": "AttributeError",
     "evalue": "'NoneType' object has no attribute 'group'",
     "output_type": "error",
     "traceback": [
      "\u001b[0;31m---------------------------------------------------------------------------\u001b[0m",
      "\u001b[0;31mAttributeError\u001b[0m                            Traceback (most recent call last)",
      "Cell \u001b[0;32mIn [2], line 6\u001b[0m\n\u001b[1;32m      4\u001b[0m text\u001b[38;5;241m=\u001b[39m\u001b[38;5;124m\"\u001b[39m\u001b[38;5;124mxx12   3xx\u001b[39m\u001b[38;5;124m\"\u001b[39m \u001b[38;5;66;03m#zero spaces didn't work as \"+\" states one or more times\u001b[39;00m\n\u001b[1;32m      5\u001b[0m match \u001b[38;5;241m=\u001b[39m re\u001b[38;5;241m.\u001b[39msearch(\u001b[38;5;124mr\u001b[39m\u001b[38;5;124m'\u001b[39m\u001b[38;5;124m\\\u001b[39m\u001b[38;5;124md\u001b[39m\u001b[38;5;124m\\\u001b[39m\u001b[38;5;124ms+\u001b[39m\u001b[38;5;124m\\\u001b[39m\u001b[38;5;124md\u001b[39m\u001b[38;5;124m\\\u001b[39m\u001b[38;5;124ms+\u001b[39m\u001b[38;5;124m\\\u001b[39m\u001b[38;5;124md\u001b[39m\u001b[38;5;124m'\u001b[39m,text)\n\u001b[0;32m----> 6\u001b[0m \u001b[38;5;28;43;01mmatch\u001b[39;49;00m\u001b[38;5;241;43m.\u001b[39;49m\u001b[43mgroup\u001b[49m()\n",
      "\u001b[0;31mAttributeError\u001b[0m: 'NoneType' object has no attribute 'group'"
     ]
    }
   ],
   "source": [
    "#ex:\n",
    "\n",
    "import re\n",
    "text=\"xx12   3xx\" #zero spaces didn't work as \"+\" states one or more times\n",
    "match = re.search(r'\\d\\s+\\d\\s+\\d',text)\n",
    "match.group()"
   ]
  },
  {
   "cell_type": "code",
   "execution_count": 3,
   "id": "430bd64f-2b62-440a-90f1-78a0d52c0541",
   "metadata": {},
   "outputs": [
    {
     "data": {
      "text/plain": [
       "'1 2   3'"
      ]
     },
     "execution_count": 3,
     "metadata": {},
     "output_type": "execute_result"
    }
   ],
   "source": [
    "import re\n",
    "text=\"xx1 2   3xx\" #one space worked as \"+\" states one or more times\n",
    "match = re.search(r'\\d\\s+\\d\\s+\\d',text)\n",
    "match.group()"
   ]
  },
  {
   "cell_type": "code",
   "execution_count": 4,
   "id": "edc43d72-627f-47ca-b78a-13e943966bcc",
   "metadata": {},
   "outputs": [
    {
     "data": {
      "text/plain": [
       "'12   3'"
      ]
     },
     "execution_count": 4,
     "metadata": {},
     "output_type": "execute_result"
    }
   ],
   "source": [
    "import re\n",
    "text=\"xx12   3xx\" #zero spaces worked as it's zero or more times\n",
    "match = re.search(r'\\d\\s*\\d\\s*\\d',text)\n",
    "match.group()"
   ]
  },
  {
   "cell_type": "markdown",
   "id": "01fe9a52-d3a1-4ec0-a8f9-64504dd7fb5f",
   "metadata": {},
   "source": [
    "Answer: They both mark the previous expression and + saying “one or more times” while * is “zero or more times” and both trying to match the maximum amount."
   ]
  },
  {
   "cell_type": "markdown",
   "id": "566aa981-b5ac-447d-9175-58875a7081d4",
   "metadata": {},
   "source": [
    "11. What is the difference between {4} and {4,5} in regular expression?"
   ]
  },
  {
   "cell_type": "markdown",
   "id": "5e0c136b-9c81-4ca4-9e44-2ca2d43b5069",
   "metadata": {},
   "source": [
    "Answer: The {4} matches exactly four instances of the preceeding group wheras {4,5} matches between 4 and 5 instances."
   ]
  },
  {
   "cell_type": "markdown",
   "id": "1b5f2d43-4d68-4932-b193-615bde29f0d2",
   "metadata": {},
   "source": [
    "12. What do you mean by the \\d, \\w, and \\s shorthand character classes signify in regular expressions?"
   ]
  },
  {
   "cell_type": "markdown",
   "id": "600b4aeb-65ae-4786-8a03-f94766b54d9e",
   "metadata": {},
   "source": [
    "Answer: The \\d, \\w, and \\s shorthand character classes match a single digit, word, or space character, respectively."
   ]
  },
  {
   "cell_type": "markdown",
   "id": "dd7a20b9-7bc7-4437-9476-b084f2c61444",
   "metadata": {},
   "source": [
    "13. What do means by \\D, \\W, and \\S shorthand character classes signify in regular expressions?"
   ]
  },
  {
   "cell_type": "markdown",
   "id": "0fc12983-220f-4cd5-aa7b-b0d36f24af56",
   "metadata": {},
   "source": [
    "Answer: The \\D, \\W, and \\S shorthand character classes match a single character that is not a digit, word, or space character, respectively."
   ]
  },
  {
   "cell_type": "raw",
   "id": "75632195-face-4ece-a7c6-8208c1a3c20a",
   "metadata": {},
   "source": [
    "14. What is the difference between .*? and .*?"
   ]
  },
  {
   "cell_type": "markdown",
   "id": "baa4a8a0-6871-4b76-ad91-c4c7d8967fb0",
   "metadata": {},
   "source": [
    "Answer:  The .* performs a greedy match, and the .*? performs a nongreedy match."
   ]
  },
  {
   "cell_type": "markdown",
   "id": "395ad49b-9180-42e9-9468-d7ce4b45317a",
   "metadata": {},
   "source": [
    "15. What is the syntax for matching both numbers and lowercase letters with a character class?"
   ]
  },
  {
   "cell_type": "markdown",
   "id": "3a1e7e63-517d-4edd-9690-948beed9c51c",
   "metadata": {},
   "source": [
    "Answer:  It's Either [0-9a-z] or [a-z0-9]"
   ]
  },
  {
   "cell_type": "markdown",
   "id": "a9ed6378-284a-449f-99c5-d8baea30e888",
   "metadata": {},
   "source": [
    "16. What is the procedure for making a normal expression in regax case insensitive?"
   ]
  },
  {
   "cell_type": "markdown",
   "id": "bcaf6e8c-9a37-4aa0-b825-a5b83c92ba29",
   "metadata": {},
   "source": [
    "Answer: : If we assign re.IGNORECASE as a parameter in regular expression calls to do case insensitive regular expressions."
   ]
  },
  {
   "cell_type": "code",
   "execution_count": 5,
   "id": "c77ba830-05fe-4063-8201-70e49551fe7c",
   "metadata": {},
   "outputs": [
    {
     "name": "stdout",
     "output_type": "stream",
     "text": [
      "<re.Match object; span=(19, 31), match='Data Science'>\n"
     ]
    }
   ],
   "source": [
    "#ex\n",
    "\n",
    "import re\n",
    "\n",
    "txt = \"iNeuron Full stack Data Science 2.0 program\"\n",
    "\n",
    "x = re.search(\"DATa SCIeNce\", txt, re.IGNORECASE) \n",
    "\n",
    "print(x)"
   ]
  },
  {
   "cell_type": "markdown",
   "id": "a9e2d9c4-130e-475b-9cb9-74df4c7686be",
   "metadata": {},
   "source": [
    "17. What does the . character normally match? What does it match if re.DOTALL is passed as 2nd argument in re.compile()?"
   ]
  },
  {
   "cell_type": "markdown",
   "id": "26867567-dccc-4a5b-b6fa-3012f9528b46",
   "metadata": {},
   "source": [
    "Answer: The . character normally matches any character except the newline character. If re.DOTALL is passed as the second argument to re.compile(), then the dot will also match newline characters."
   ]
  },
  {
   "cell_type": "markdown",
   "id": "56e46fa4-c3c0-48f6-8602-78668dbb8edc",
   "metadata": {},
   "source": [
    "18. If numReg = re.compile(r'\\d+'), what will numRegex.sub('X', '11 drummers, 10 pipers, five rings, 4 hen') return?"
   ]
  },
  {
   "cell_type": "code",
   "execution_count": 6,
   "id": "755dc563-907f-4552-8915-354745159eb3",
   "metadata": {},
   "outputs": [
    {
     "data": {
      "text/plain": [
       "'X drummers, X pipers, five rings, X hen'"
      ]
     },
     "execution_count": 6,
     "metadata": {},
     "output_type": "execute_result"
    }
   ],
   "source": [
    "numReg = re.compile(r'\\d+')\n",
    "\n",
    "numReg.sub('X', '11 drummers, 10 pipers, five rings, 4 hen')"
   ]
  },
  {
   "cell_type": "markdown",
   "id": "ef56dcb3-a09d-4e6d-92e6-ac12f09dac40",
   "metadata": {},
   "source": [
    "19. What does passing re.VERBOSE as the 2nd argument to re.compile() allow to do?"
   ]
  },
  {
   "cell_type": "markdown",
   "id": "44a59c68-e29f-45a9-b3f8-1b2d1189eccc",
   "metadata": {},
   "source": [
    "Answer: The re.VERBOSE argument allows you to add whitespace and comments to the string passed to re.compile()"
   ]
  },
  {
   "cell_type": "code",
   "execution_count": 7,
   "id": "79853154-909e-43f1-a552-b7e2a53b1020",
   "metadata": {},
   "outputs": [],
   "source": [
    "# 20. How would you write a regex that match a number with comma for every three digits? It must match the given following:"
   ]
  },
  {
   "cell_type": "code",
   "execution_count": 8,
   "id": "6f0d931c-a374-4ec5-b7fb-3efab8fbd827",
   "metadata": {},
   "outputs": [
    {
     "data": {
      "text/plain": [
       "'1234'"
      ]
     },
     "execution_count": 8,
     "metadata": {},
     "output_type": "execute_result"
    }
   ],
   "source": [
    "\"42\"\n",
    "\"1,234\"\n",
    "\"6,368,745\"\n",
    "\n",
    "#but not the following\n",
    "\n",
    "\"12,34,567\" #(which has only two digits between the commas)\n",
    "\"1234\" #(which lacks commas)"
   ]
  },
  {
   "cell_type": "code",
   "execution_count": 9,
   "id": "a71940f3-2f12-4466-9559-e4a2bd7976d7",
   "metadata": {},
   "outputs": [
    {
     "data": {
      "text/plain": [
       "re.compile(r'^\\d{1,3}(,\\d{3})*$', re.UNICODE)"
      ]
     },
     "execution_count": 9,
     "metadata": {},
     "output_type": "execute_result"
    }
   ],
   "source": [
    "re.compile(r'^\\d{1,3}(,\\d{3})*$')"
   ]
  },
  {
   "cell_type": "markdown",
   "id": "b358880b-d1b0-4888-ac57-ef97f076bf8c",
   "metadata": {},
   "source": [
    "Answer: re.compile(r'^\\d{1,3}(,\\d{3})*$') will create this regex, but other regex strings can produce a similar regular expression."
   ]
  },
  {
   "cell_type": "markdown",
   "id": "8658a7ac-6461-4df2-9c40-7f1c2096e5ae",
   "metadata": {},
   "source": [
    "21. How would you write a regex that matches the full name of someone whose last name is Watanabe? You can assume that the first name that comes before it will always be one word that begins with a capital letter. The regex must match the following:\n",
    "'Haruto Watanabe'\n",
    "\n",
    "'Alice Watanabe'\n",
    "\n",
    "'RoboCop Watanabe'\n",
    "\n",
    "but not the following:\n",
    "\n",
    "'haruto Watanabe' (where the first name is not capitalized)\n",
    "\n",
    "'Mr. Watanabe' (where the preceding word has a nonletter character)\n",
    "\n",
    "'Watanabe' (which has no first name)\n",
    "\n",
    "'Haruto watanabe' (where Watanabe is not capitalized)"
   ]
  },
  {
   "cell_type": "code",
   "execution_count": 10,
   "id": "f9517fd7-9013-4fbc-ab25-5b83641a93b2",
   "metadata": {},
   "outputs": [
    {
     "data": {
      "text/plain": [
       "re.compile(r'[A-Z][a-z]*\\s Watanabe', re.UNICODE)"
      ]
     },
     "execution_count": 10,
     "metadata": {},
     "output_type": "execute_result"
    }
   ],
   "source": [
    "#Answer:\n",
    "re.compile(r'[A-Z][a-z]*\\s Watanabe')"
   ]
  },
  {
   "cell_type": "markdown",
   "id": "380e7df3-2532-4a87-972a-39c49c927db6",
   "metadata": {},
   "source": [
    "22. How would you write a regex that matches a sentence where the first word is either Alice, Bob, or Carol; the second word is either eats, pets, or throws; the third word is apples, cats, or baseballs; and the sentence ends with a period? This regex should be case-insensitive. It must match the following:\n",
    "'Alice eats apples.'\n",
    "\n",
    "'Bob pets cats.'\n",
    "\n",
    "'Carol throws baseballs.'\n",
    "\n",
    "'Alice throws Apples.'\n",
    "\n",
    "'BOB EATS CATS.'\n",
    "\n",
    "but not the following:\n",
    "\n",
    "'RoboCop eats apples.'\n",
    "\n",
    "'ALICE THROWS FOOTBALLS.'\n",
    "\n",
    "'Carol eats 7 cats.'"
   ]
  },
  {
   "cell_type": "code",
   "execution_count": 11,
   "id": "df3148f0-139f-4bf4-974b-b09a82fe774e",
   "metadata": {},
   "outputs": [
    {
     "data": {
      "text/plain": [
       "re.compile(r'(Alice|Bob|Carol)\\s(eats|pets|throws)\\s(apples|cats|baseballs)\\.',\n",
       "           re.IGNORECASE|re.UNICODE)"
      ]
     },
     "execution_count": 11,
     "metadata": {},
     "output_type": "execute_result"
    }
   ],
   "source": [
    "#Answer:\n",
    "re.compile(r'(Alice|Bob|Carol)\\s(eats|pets|throws)\\s(apples|cats|baseballs)\\.', re.IGNORECASE)"
   ]
  },
  {
   "cell_type": "code",
   "execution_count": null,
   "id": "50c7753a-ec68-476d-82b6-30fbdb9983bb",
   "metadata": {},
   "outputs": [],
   "source": []
  }
 ],
 "metadata": {
  "kernelspec": {
   "display_name": "Python 3 (ipykernel)",
   "language": "python",
   "name": "python3"
  },
  "language_info": {
   "codemirror_mode": {
    "name": "ipython",
    "version": 3
   },
   "file_extension": ".py",
   "mimetype": "text/x-python",
   "name": "python",
   "nbconvert_exporter": "python",
   "pygments_lexer": "ipython3",
   "version": "3.10.6"
  }
 },
 "nbformat": 4,
 "nbformat_minor": 5
}
