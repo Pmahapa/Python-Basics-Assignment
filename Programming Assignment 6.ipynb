{
 "cells": [
  {
   "cell_type": "markdown",
   "id": "f89126ea-2a58-454f-ba68-aa690c2596c4",
   "metadata": {},
   "source": [
    "1. Write a Python Program to Display Fibonacci Sequence Using Recursion?"
   ]
  },
  {
   "cell_type": "code",
   "execution_count": 1,
   "id": "821dbd34-b97b-4663-93b7-66da88862843",
   "metadata": {},
   "outputs": [
    {
     "name": "stdin",
     "output_type": "stream",
     "text": [
      "Enter the number of Fibonacci terms to display:  7\n"
     ]
    },
    {
     "name": "stdout",
     "output_type": "stream",
     "text": [
      "Fibonacci Sequence: [0, 1, 1, 2, 3, 5, 8]\n"
     ]
    }
   ],
   "source": [
    "def fibonacci_recursive(n):\n",
    "    if n <= 0:\n",
    "        return []\n",
    "    elif n == 1:\n",
    "        return [0]\n",
    "    elif n == 2:\n",
    "        return [0, 1]\n",
    "    else:\n",
    "        fib_series = fibonacci_recursive(n - 1)\n",
    "        fib_series.append(fib_series[-1] + fib_series[-2])\n",
    "        return fib_series\n",
    "\n",
    "n = int(input(\"Enter the number of Fibonacci terms to display: \"))\n",
    "if n <= 0:\n",
    "    print(\"Please enter a positive integer.\")\n",
    "else:\n",
    "    result = fibonacci_recursive(n)\n",
    "    print(\"Fibonacci Sequence:\", result)\n"
   ]
  },
  {
   "cell_type": "markdown",
   "id": "4af9f9f1-2c2b-4bbd-b94c-5bf2ce9c8076",
   "metadata": {},
   "source": [
    "2. Write a Python Program to Find Factorial of Number Using Recursion?"
   ]
  },
  {
   "cell_type": "code",
   "execution_count": 4,
   "id": "9ae06d3c-b763-4a52-a76f-68ae6af6aeab",
   "metadata": {},
   "outputs": [
    {
     "name": "stdin",
     "output_type": "stream",
     "text": [
      "Enter a number: 7\n"
     ]
    },
    {
     "name": "stdout",
     "output_type": "stream",
     "text": [
      "Factorial of 7 is 5040\n"
     ]
    }
   ],
   "source": [
    "factorial=1\n",
    "n=int(input(\"Enter a number:\"))\n",
    "if n<0:\n",
    "    print(\"factorial does not exist\")\n",
    "elif n==0:\n",
    "    print(f\"factorial of {n} is 1\")\n",
    "else:\n",
    "    for i in range(2,n+1):\n",
    "        factorial=factorial*i\n",
    "    print(f\"Factorial of {n} is {factorial}\")"
   ]
  },
  {
   "cell_type": "markdown",
   "id": "04168470-1e30-4a1e-816e-64912636181c",
   "metadata": {},
   "source": [
    "3. Write a Python Program to calculate your Body Mass Index?"
   ]
  },
  {
   "cell_type": "code",
   "execution_count": 7,
   "id": "415dc5a8-cd3f-42cc-bd9f-ef5815e15e4e",
   "metadata": {},
   "outputs": [
    {
     "name": "stdin",
     "output_type": "stream",
     "text": [
      "Enter a weight in killograms: 4\n",
      "Enter a height in meters: 5\n"
     ]
    },
    {
     "data": {
      "text/plain": [
       "0.16"
      ]
     },
     "execution_count": 7,
     "metadata": {},
     "output_type": "execute_result"
    }
   ],
   "source": [
    "def calculate_bmi(weight,height):\n",
    "    bmi=weight/(height)**2\n",
    "    return bmi\n",
    "weight=int(input(\"Enter a weight in killograms:\"))\n",
    "height=int(input(\"Enter a height in meters:\"))\n",
    "calculate_bmi(weight, height)"
   ]
  },
  {
   "cell_type": "markdown",
   "id": "8d2f72e2-4cf9-4ee4-87c5-0ac57d38e595",
   "metadata": {},
   "source": [
    "4. Write a Python Program to calculate the natural logarithm of any number?"
   ]
  },
  {
   "cell_type": "code",
   "execution_count": 10,
   "id": "00193015-5188-45be-9cc1-2bf3fb80ade0",
   "metadata": {},
   "outputs": [
    {
     "name": "stdin",
     "output_type": "stream",
     "text": [
      "Enter a number to calculate its natural logarithm:  6\n"
     ]
    },
    {
     "name": "stdout",
     "output_type": "stream",
     "text": [
      "The natural logarithm of 6.0 is approximately 1.791759469228055\n"
     ]
    }
   ],
   "source": [
    "import math\n",
    "num = float(input(\"Enter a number to calculate its natural logarithm: \"))\n",
    "if num <= 0:\n",
    "    print(\"Natural logarithm is not defined for non-positive numbers.\")\n",
    "else:\n",
    "    natural_log = math.log(num)\n",
    "    print(f\"The natural logarithm of {num} is approximately {natural_log}\")\n"
   ]
  },
  {
   "cell_type": "markdown",
   "id": "437cdd4a-5200-4489-9c45-fbca1324fc17",
   "metadata": {},
   "source": [
    "5. Write a Python Program for cube sum of first n natural numbers?"
   ]
  },
  {
   "cell_type": "code",
   "execution_count": 11,
   "id": "96f06584-a2d4-423d-a4a2-4ae5981e2e7f",
   "metadata": {},
   "outputs": [
    {
     "name": "stdin",
     "output_type": "stream",
     "text": [
      "Enter a number: 4\n"
     ]
    },
    {
     "name": "stdout",
     "output_type": "stream",
     "text": [
      "100\n"
     ]
    }
   ],
   "source": [
    "n=int(input(\"Enter a number:\"))\n",
    "sum=0\n",
    "for i in range(1,n+1):\n",
    "   sum=sum+(i**3)\n",
    "print(sum)\n",
    "\n"
   ]
  },
  {
   "cell_type": "code",
   "execution_count": null,
   "id": "95384c78-2620-425d-a5f0-9d40eb7686b4",
   "metadata": {},
   "outputs": [],
   "source": []
  }
 ],
 "metadata": {
  "kernelspec": {
   "display_name": "Python 3 (ipykernel)",
   "language": "python",
   "name": "python3"
  },
  "language_info": {
   "codemirror_mode": {
    "name": "ipython",
    "version": 3
   },
   "file_extension": ".py",
   "mimetype": "text/x-python",
   "name": "python",
   "nbconvert_exporter": "python",
   "pygments_lexer": "ipython3",
   "version": "3.10.6"
  }
 },
 "nbformat": 4,
 "nbformat_minor": 5
}
