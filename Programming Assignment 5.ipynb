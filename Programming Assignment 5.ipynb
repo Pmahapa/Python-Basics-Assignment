{
 "cells": [
  {
   "cell_type": "markdown",
   "id": "3d6c3170-ec5a-4e20-bac0-339a480de4f9",
   "metadata": {},
   "source": [
    "1. Write a Python Program to Find LCM?"
   ]
  },
  {
   "cell_type": "code",
   "execution_count": 4,
   "id": "f2e1abf6-fd28-44f1-afb4-d7a7904601cb",
   "metadata": {},
   "outputs": [
    {
     "name": "stdin",
     "output_type": "stream",
     "text": [
      "Enter the first number: 16\n",
      "Enter the second number: 40\n"
     ]
    },
    {
     "name": "stdout",
     "output_type": "stream",
     "text": [
      "LCM Of 16 and 40 is: 80\n"
     ]
    }
   ],
   "source": [
    "def gcd(a,b):\n",
    "    while b:\n",
    "        a,b = b,a%b\n",
    "    return a\n",
    "\n",
    "def lcm(a,b):\n",
    "    return (a*b)//gcd(a,b)\n",
    "\n",
    "a=int(input(\"Enter the first number:\"))\n",
    "b=int(input(\"Enter the second number:\"))\n",
    "result= lcm(a,b)\n",
    "print(f\"LCM Of {a} and {b} is: {result}\")\n",
    "\n",
    "\n",
    "\n",
    "        "
   ]
  },
  {
   "cell_type": "markdown",
   "id": "33463f41-5d09-4b94-b68f-9174323ed7dd",
   "metadata": {},
   "source": [
    "2. Write a Python Program to Find HCF?"
   ]
  },
  {
   "cell_type": "code",
   "execution_count": 5,
   "id": "4f517f33-f086-457b-be38-0483c0f1d405",
   "metadata": {},
   "outputs": [
    {
     "name": "stdin",
     "output_type": "stream",
     "text": [
      "Enter the first number: 16\n",
      "Enter the second number: 40\n"
     ]
    },
    {
     "name": "stdout",
     "output_type": "stream",
     "text": [
      "HCF Of 16 and 40 is: 8\n"
     ]
    }
   ],
   "source": [
    "def hcf(a,b):\n",
    "    while b:\n",
    "        a,b = b,a%b\n",
    "    return a\n",
    "\n",
    "a=int(input(\"Enter the first number:\"))\n",
    "b=int(input(\"Enter the second number:\"))\n",
    "result= hcf(a,b)\n",
    "print(f\"HCF Of {a} and {b} is: {result}\")"
   ]
  },
  {
   "cell_type": "markdown",
   "id": "63f01912-bc87-464e-bfd1-f85e3c068b0e",
   "metadata": {},
   "source": [
    "3. Write a Python Program to Convert Decimal to Binary, Octal and Hexadecimal?"
   ]
  },
  {
   "cell_type": "code",
   "execution_count": 17,
   "id": "f07fbfec-3b77-4deb-ab00-d98a92b94382",
   "metadata": {},
   "outputs": [],
   "source": [
    "# convert Decimal to binary\n",
    "def decimal_to_binary(decimal_num):\n",
    "    binary_num=\"\"\n",
    "    \n",
    "    if decimal_num == 0:\n",
    "        binary_num=0\n",
    "    else:\n",
    "        while decimal_num>0:\n",
    "            remainder = decimal_num%2\n",
    "            binary_num = str(remainder)+binary_num\n",
    "            decimal_num=decimal_num//2\n",
    "\n",
    "        return binary_num\n",
    "\n",
    "\n",
    "# Convert Decimal to Octal\n",
    "def decimal_to_octal(decimal_num):\n",
    "    octal_num=\"\"\n",
    "    \n",
    "    if decimal_num == 0:\n",
    "        octal_num=0\n",
    "    else:\n",
    "        while decimal_num>0:\n",
    "            remainder = decimal_num%8\n",
    "            octal_num = str(remainder)+octal_num\n",
    "            decimal_num=decimal_num//8\n",
    "\n",
    "        return octal_num\n",
    "    \n",
    "    \n",
    "# Convert Decimal to Hexadecimal    \n",
    "def decimal_to_hexadecimal(decimal_num):\n",
    "    hexadecimal_num=\"\"\n",
    "    \n",
    "    if decimal_num == 0:\n",
    "        hexadecimal_num=0\n",
    "    else:\n",
    "        while decimal_num>0:\n",
    "            remainder = decimal_num%16\n",
    "            hexadecimal_num = str(remainder)+hexadecimal_num\n",
    "            decimal_num=decimal_num//16\n",
    "\n",
    "        return hexadecimal_num\n",
    "        \n",
    "    "
   ]
  },
  {
   "cell_type": "code",
   "execution_count": 21,
   "id": "d19270ec-5558-4c7f-ad16-295d75f0a01c",
   "metadata": {},
   "outputs": [
    {
     "name": "stdout",
     "output_type": "stream",
     "text": [
      "10101\n",
      "25\n",
      "15\n"
     ]
    }
   ],
   "source": [
    "a=decimal_to_binary(21)\n",
    "b=decimal_to_octal(21)\n",
    "c=decimal_to_hexadecimal(21)\n",
    "\n",
    "print(a)\n",
    "print(b)\n",
    "print(c)"
   ]
  },
  {
   "cell_type": "markdown",
   "id": "9c417ec8-e710-4640-8ae7-e0f636251701",
   "metadata": {},
   "source": [
    "4. Write a Python Program To Find ASCII value of a character?"
   ]
  },
  {
   "cell_type": "code",
   "execution_count": 1,
   "id": "208974ae-53cd-41ac-8f66-b12cf0e42a33",
   "metadata": {},
   "outputs": [
    {
     "name": "stdin",
     "output_type": "stream",
     "text": [
      "Enter a character:  A\n"
     ]
    },
    {
     "name": "stdout",
     "output_type": "stream",
     "text": [
      "The ASCII value of 'A' is 65\n"
     ]
    }
   ],
   "source": [
    "character = input(\"Enter a character: \")\n",
    "ascii_value = ord(character)\n",
    "print(f\"The ASCII value of '{character}' is {ascii_value}\")"
   ]
  },
  {
   "cell_type": "markdown",
   "id": "cf7a0295-a897-441e-9fbe-afc9e3842366",
   "metadata": {},
   "source": [
    "5. Write a Python Program to Make a Simple Calculator with 4 basic mathematical operations?"
   ]
  },
  {
   "cell_type": "code",
   "execution_count": 9,
   "id": "fcaa90d6-31c7-4fbe-89e9-b62fc3aae6c5",
   "metadata": {},
   "outputs": [
    {
     "name": "stdout",
     "output_type": "stream",
     "text": [
      "Options:\n",
      "Enter 'add' for addition\n",
      "Enter 'subtract' for subtraction\n",
      "Enter 'multiply' for multiplication\n",
      "Enter 'divide' for division\n",
      "Enter 'quit' to end the program\n"
     ]
    },
    {
     "name": "stdin",
     "output_type": "stream",
     "text": [
      ":  add\n",
      "Enter first number:  4\n",
      "Enter second number:  5\n"
     ]
    },
    {
     "name": "stdout",
     "output_type": "stream",
     "text": [
      "Result: 9.0\n",
      "Options:\n",
      "Enter 'add' for addition\n",
      "Enter 'subtract' for subtraction\n",
      "Enter 'multiply' for multiplication\n",
      "Enter 'divide' for division\n",
      "Enter 'quit' to end the program\n"
     ]
    },
    {
     "name": "stdin",
     "output_type": "stream",
     "text": [
      ":  quit\n"
     ]
    }
   ],
   "source": [
    "# Function to perform addition\n",
    "def add(x, y):\n",
    "    return x + y\n",
    "\n",
    "# Function to perform subtraction\n",
    "def subtract(x, y):\n",
    "    return x - y\n",
    "\n",
    "# Function to perform multiplication\n",
    "def multiply(x, y):\n",
    "    return x * y\n",
    "\n",
    "# Function to perform division\n",
    "def divide(x, y):\n",
    "    if y == 0:\n",
    "        return \"Cannot divide by zero\"\n",
    "    return x / y\n",
    "\n",
    "\n",
    "while True:\n",
    "    print(\"Options:\")\n",
    "    print(\"Enter 'add' for addition\")\n",
    "    print(\"Enter 'subtract' for subtraction\")\n",
    "    print(\"Enter 'multiply' for multiplication\")\n",
    "    print(\"Enter 'divide' for division\")\n",
    "    print(\"Enter 'quit' to end the program\")\n",
    "\n",
    "    user_choice = input(\": \")\n",
    "\n",
    "    if user_choice == \"quit\":\n",
    "        break\n",
    "    elif user_choice in (\"add\", \"subtract\", \"multiply\", \"divide\"):\n",
    "        num1 = float(input(\"Enter first number: \"))\n",
    "        num2 = float(input(\"Enter second number: \"))\n",
    "\n",
    "        if user_choice == \"add\":\n",
    "            print(\"Result:\", add(num1, num2))\n",
    "        elif user_choice == \"subtract\":\n",
    "            print(\"Result:\", subtract(num1, num2))\n",
    "        elif user_choice == \"multiply\":\n",
    "            print(\"Result:\", multiply(num1, num2))\n",
    "        elif user_choice == \"divide\":\n",
    "            print(\"Result:\", divide(num1, num2))\n",
    "            break\n",
    "    else:\n",
    "        print(\"Invalid input\")\n"
   ]
  },
  {
   "cell_type": "code",
   "execution_count": null,
   "id": "1e84f72c-6aae-43c5-867d-3afe589586dc",
   "metadata": {},
   "outputs": [],
   "source": []
  }
 ],
 "metadata": {
  "kernelspec": {
   "display_name": "Python 3 (ipykernel)",
   "language": "python",
   "name": "python3"
  },
  "language_info": {
   "codemirror_mode": {
    "name": "ipython",
    "version": 3
   },
   "file_extension": ".py",
   "mimetype": "text/x-python",
   "name": "python",
   "nbconvert_exporter": "python",
   "pygments_lexer": "ipython3",
   "version": "3.10.6"
  }
 },
 "nbformat": 4,
 "nbformat_minor": 5
}
