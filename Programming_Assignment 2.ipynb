{
 "cells": [
  {
   "cell_type": "raw",
   "id": "13373f8c-80de-476e-a0c3-490a74a4f6bf",
   "metadata": {},
   "source": [
    "1. Write a Python program to convert kilometers to miles?"
   ]
  },
  {
   "cell_type": "code",
   "execution_count": 8,
   "id": "2f0243c3-83b0-4fe4-9461-559e20fa3619",
   "metadata": {},
   "outputs": [
    {
     "name": "stdin",
     "output_type": "stream",
     "text": [
      "Enter distance in kilometers:  24\n"
     ]
    },
    {
     "data": {
      "text/plain": [
       "14.912904000000001"
      ]
     },
     "execution_count": 8,
     "metadata": {},
     "output_type": "execute_result"
    }
   ],
   "source": [
    "def kilometers_to_miles(kilometers):\n",
    "    kilometers = float(input(\"Enter distance in kilometers: \"))\n",
    "    miles_conversion_factor = 0.621371\n",
    "    miles = kilometers * miles_conversion_factor\n",
    "    return miles\n",
    "\n",
    "\n",
    "kilometers_to_miles(kilometers)"
   ]
  },
  {
   "cell_type": "raw",
   "id": "1ea8f7fd-df0f-417a-a579-0fef462765c0",
   "metadata": {},
   "source": [
    "2. Write a Python program to convert Celsius to Fahrenheit?"
   ]
  },
  {
   "cell_type": "code",
   "execution_count": 14,
   "id": "4f71eaba-ebf2-4caf-8197-635fd9664dec",
   "metadata": {},
   "outputs": [
    {
     "name": "stdin",
     "output_type": "stream",
     "text": [
      "Enter celsisus in degree:  45\n"
     ]
    },
    {
     "name": "stdout",
     "output_type": "stream",
     "text": [
      "113.0\n"
     ]
    }
   ],
   "source": [
    "c= int(input(\"Enter celsisus in degree: \"))\n",
    "Fahrenheit=c*(9/5)+32\n",
    "print(Fahrenheit)"
   ]
  },
  {
   "cell_type": "raw",
   "id": "407a6f5a-526c-4354-970f-5d4c91e9de9f",
   "metadata": {},
   "source": [
    "3. Write a Python program to display calendar?"
   ]
  },
  {
   "cell_type": "code",
   "execution_count": 1,
   "id": "fc5b54bc-5464-4deb-a5b1-399e690bd431",
   "metadata": {},
   "outputs": [
    {
     "name": "stdin",
     "output_type": "stream",
     "text": [
      "Enter year:  2023\n",
      "Enter month:  08\n"
     ]
    },
    {
     "name": "stdout",
     "output_type": "stream",
     "text": [
      "Calendar for August 2023:\n",
      "\n",
      "    August 2023\n",
      "Mo Tu We Th Fr Sa Su\n",
      "    1  2  3  4  5  6\n",
      " 7  8  9 10 11 12 13\n",
      "14 15 16 17 18 19 20\n",
      "21 22 23 24 25 26 27\n",
      "28 29 30 31\n",
      "\n"
     ]
    }
   ],
   "source": [
    "import calendar\n",
    "year = int(input(\"Enter year: \"))\n",
    "month = int(input(\"Enter month: \"))\n",
    "cal = calendar.month(year, month)\n",
    "print(f\"Calendar for {calendar.month_name[month]} {year}:\\n\")\n",
    "print(cal)\n"
   ]
  },
  {
   "cell_type": "raw",
   "id": "176928b2-a6a3-4442-9ab5-aedac8e44b7b",
   "metadata": {},
   "source": [
    "4. Write a Python program to solve quadratic equation?"
   ]
  },
  {
   "cell_type": "code",
   "execution_count": 14,
   "id": "13181671-c4f2-46b1-aa80-6a7815f5d942",
   "metadata": {},
   "outputs": [
    {
     "name": "stdin",
     "output_type": "stream",
     "text": [
      " 2\n",
      " 5\n",
      " 2\n"
     ]
    },
    {
     "name": "stdout",
     "output_type": "stream",
     "text": [
      "-2.0 -8.0\n"
     ]
    }
   ],
   "source": [
    "a=int(input())\n",
    "b=int(input())\n",
    "c=int(input())\n",
    "\n",
    "z=(b**2)-4*a*c\n",
    "if z>0:\n",
    "    x1=(-b+((z)**(1/2)))/2*a\n",
    "    X2=(-b-((z)**(1/2)))/2*a\n",
    "    print(x1, X2)\n",
    "else:\n",
    "    print(\"x is a complex number\")"
   ]
  },
  {
   "cell_type": "raw",
   "id": "cc0047b9-c401-49c9-ad06-aca52b7be526",
   "metadata": {},
   "source": [
    "5. Write a Python program to swap two variables without temp variable?"
   ]
  },
  {
   "cell_type": "code",
   "execution_count": 16,
   "id": "e9400cfc-8757-48cc-b797-3d355a1f3497",
   "metadata": {},
   "outputs": [
    {
     "name": "stdin",
     "output_type": "stream",
     "text": [
      "Enter the value of a: 5\n",
      "Enter the value of b: 6\n"
     ]
    },
    {
     "name": "stdout",
     "output_type": "stream",
     "text": [
      "value of a is 6\n",
      "value of b is 5\n"
     ]
    }
   ],
   "source": [
    "a=int(input(\"Enter the value of a:\"))\n",
    "b=int(input(\"Enter the value of b:\"))\n",
    "a,b=b,a\n",
    "print(f\"value of a is {a}\")\n",
    "print(f\"value of b is {b}\")       "
   ]
  },
  {
   "cell_type": "code",
   "execution_count": null,
   "id": "98c3e711-86ec-4c53-acc0-fb9eed1ac4df",
   "metadata": {},
   "outputs": [],
   "source": []
  }
 ],
 "metadata": {
  "kernelspec": {
   "display_name": "Python 3 (ipykernel)",
   "language": "python",
   "name": "python3"
  },
  "language_info": {
   "codemirror_mode": {
    "name": "ipython",
    "version": 3
   },
   "file_extension": ".py",
   "mimetype": "text/x-python",
   "name": "python",
   "nbconvert_exporter": "python",
   "pygments_lexer": "ipython3",
   "version": "3.10.6"
  }
 },
 "nbformat": 4,
 "nbformat_minor": 5
}
