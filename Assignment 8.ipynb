{
 "cells": [
  {
   "cell_type": "markdown",
   "id": "275d4a84-ad16-469f-87cd-fc41fc55bc0f",
   "metadata": {},
   "source": [
    "1. Is the Python Standard Library included with PyInputPlus?"
   ]
  },
  {
   "cell_type": "markdown",
   "id": "51962e74-704a-418c-8611-0cf3da25b09e",
   "metadata": {},
   "source": [
    "Answer: PyInputPlus is not a part of the Python Standard Library, we must install it separately using pip"
   ]
  },
  {
   "cell_type": "markdown",
   "id": "3383bc44-5c75-470f-9d80-838c9d5d391f",
   "metadata": {},
   "source": [
    "2. Why is PyInputPlus commonly imported with import pyinputplus as pypi?"
   ]
  },
  {
   "cell_type": "markdown",
   "id": "14a0b228-db44-4a3e-ad2b-a125b26e4246",
   "metadata": {},
   "source": [
    "Answer: You can import the module with import pyinputplus as pyip so that you can enter a shorter name when calling the module’s functions"
   ]
  },
  {
   "cell_type": "markdown",
   "id": "97540cd4-8992-408f-948b-b3be509aef2a",
   "metadata": {},
   "source": [
    "3. How do you distinguish between inputInt() and inputFloat()?"
   ]
  },
  {
   "cell_type": "markdown",
   "id": "05846ca5-dbe3-42d6-849b-ab9df2668a8c",
   "metadata": {},
   "source": [
    "Answer: The difference is in the data-type when you use the inputInt() the program expects an integer value as input but in the inputFloat() it expects a float value i.e number containing a decimal."
   ]
  },
  {
   "cell_type": "markdown",
   "id": "b965bd83-ffa8-4cdc-b8b1-f0c502ca1bc9",
   "metadata": {},
   "source": [
    "4. Using PyInputPlus, how do you ensure that the user enters a whole number between 0 and 99?"
   ]
  },
  {
   "cell_type": "markdown",
   "id": "f8a6795b-480c-437e-acef-60fde6294744",
   "metadata": {},
   "source": [
    "Answer:  By using pyip.inputInt(min=0, max=99)"
   ]
  },
  {
   "cell_type": "code",
   "execution_count": 1,
   "id": "5be92d0a-4ec7-470b-a737-322c21589318",
   "metadata": {},
   "outputs": [
    {
     "name": "stdout",
     "output_type": "stream",
     "text": [
      "Collecting pyinputplus\n",
      "  Downloading PyInputPlus-0.2.12.tar.gz (20 kB)\n",
      "  Installing build dependencies ... \u001b[?25ldone\n",
      "\u001b[?25h  Getting requirements to build wheel ... \u001b[?25ldone\n",
      "\u001b[?25h  Preparing metadata (pyproject.toml) ... \u001b[?25ldone\n",
      "\u001b[?25hCollecting stdiomask>=0.0.3\n",
      "  Downloading stdiomask-0.0.6.tar.gz (3.6 kB)\n",
      "  Installing build dependencies ... \u001b[?25ldone\n",
      "\u001b[?25h  Getting requirements to build wheel ... \u001b[?25ldone\n",
      "\u001b[?25h  Preparing metadata (pyproject.toml) ... \u001b[?25ldone\n",
      "\u001b[?25hCollecting pysimplevalidate>=0.2.7\n",
      "  Downloading PySimpleValidate-0.2.12.tar.gz (22 kB)\n",
      "  Installing build dependencies ... \u001b[?25ldone\n",
      "\u001b[?25h  Getting requirements to build wheel ... \u001b[?25ldone\n",
      "\u001b[?25h  Preparing metadata (pyproject.toml) ... \u001b[?25ldone\n",
      "\u001b[?25hBuilding wheels for collected packages: pyinputplus, pysimplevalidate, stdiomask\n",
      "  Building wheel for pyinputplus (pyproject.toml) ... \u001b[?25ldone\n",
      "\u001b[?25h  Created wheel for pyinputplus: filename=PyInputPlus-0.2.12-py3-none-any.whl size=11297 sha256=4287cbde22122e8d435ab10ef1d96d34bd24e422f7679d6c5d0dbc1375d39f61\n",
      "  Stored in directory: /home/jovyan/.cache/pip/wheels/2d/72/d9/818396cecb072b3d697a47b007d9bbad74859a83a635e47d4d\n",
      "  Building wheel for pysimplevalidate (pyproject.toml) ... \u001b[?25ldone\n",
      "\u001b[?25h  Created wheel for pysimplevalidate: filename=PySimpleValidate-0.2.12-py3-none-any.whl size=16176 sha256=53f5df02d18963a20c6cef705aecc52c85258be0ab1aedb9d8742e9522b350ea\n",
      "  Stored in directory: /home/jovyan/.cache/pip/wheels/05/ad/4d/7289d8b9a519e88167728584876a1a1073a3f71666d875aba7\n",
      "  Building wheel for stdiomask (pyproject.toml) ... \u001b[?25ldone\n",
      "\u001b[?25h  Created wheel for stdiomask: filename=stdiomask-0.0.6-py3-none-any.whl size=3306 sha256=fd79e22fbac70195a20b2e1928d1aef8959bd1f02a767bdde00c6b7549806fe1\n",
      "  Stored in directory: /home/jovyan/.cache/pip/wheels/41/ee/55/6e4b70f6248b280caae3d938bc543206bb1a75988b739f1238\n",
      "Successfully built pyinputplus pysimplevalidate stdiomask\n",
      "Installing collected packages: stdiomask, pysimplevalidate, pyinputplus\n",
      "Successfully installed pyinputplus-0.2.12 pysimplevalidate-0.2.12 stdiomask-0.0.6\n"
     ]
    }
   ],
   "source": [
    "!pip install pyinputplus"
   ]
  },
  {
   "cell_type": "code",
   "execution_count": 2,
   "id": "cda86c76-c1b0-4d3b-bd46-2ac4ef5e17a9",
   "metadata": {},
   "outputs": [
    {
     "name": "stdin",
     "output_type": "stream",
     "text": [
      " 5\n"
     ]
    },
    {
     "data": {
      "text/plain": [
       "5"
      ]
     },
     "execution_count": 2,
     "metadata": {},
     "output_type": "execute_result"
    }
   ],
   "source": [
    "import pyinputplus as pyip\n",
    "\n",
    "pyip.inputInt(min = 0, max = 99)"
   ]
  },
  {
   "cell_type": "markdown",
   "id": "7e73e153-4178-4caa-9c53-0073998f6de1",
   "metadata": {},
   "source": [
    "5. What is transferred to the keyword arguments allowRegexes and blockRegexes?"
   ]
  },
  {
   "cell_type": "markdown",
   "id": "5c1f8690-a040-4360-9462-1cccca5e2df2",
   "metadata": {},
   "source": [
    "Answer: A list of regex strings that are either explicitly allowed or denied"
   ]
  },
  {
   "cell_type": "code",
   "execution_count": 3,
   "id": "7780ad1c-ec1e-40c9-8b0e-4fa859773000",
   "metadata": {},
   "outputs": [
    {
     "name": "stdout",
     "output_type": "stream",
     "text": [
      "Enter a string... "
     ]
    },
    {
     "name": "stdin",
     "output_type": "stream",
     "text": [
      " speed\n"
     ]
    },
    {
     "name": "stdout",
     "output_type": "stream",
     "text": [
      "This response is invalid.\n",
      "Enter a string... "
     ]
    },
    {
     "name": "stdin",
     "output_type": "stream",
     "text": [
      " gym\n"
     ]
    },
    {
     "data": {
      "text/plain": [
       "'gym'"
      ]
     },
     "execution_count": 3,
     "metadata": {},
     "output_type": "execute_result"
    }
   ],
   "source": [
    "pyip.inputStr(prompt=\"Enter a string... \", \n",
    "                    blank=True, blockRegexes = 'aeiou') #blocking aeiou"
   ]
  },
  {
   "cell_type": "code",
   "execution_count": 4,
   "id": "d65aeec7-0217-41d0-a3e4-857b24e190b0",
   "metadata": {},
   "outputs": [
    {
     "name": "stdout",
     "output_type": "stream",
     "text": [
      "Enter a string... "
     ]
    },
    {
     "name": "stdin",
     "output_type": "stream",
     "text": [
      " speed\n"
     ]
    },
    {
     "data": {
      "text/plain": [
       "'speed'"
      ]
     },
     "execution_count": 4,
     "metadata": {},
     "output_type": "execute_result"
    }
   ],
   "source": [
    "pyip.inputStr(prompt=\"Enter a string... \", \n",
    "                    blank=True, allowRegexes = 'aeiou') #allow aeiou"
   ]
  },
  {
   "cell_type": "markdown",
   "id": "b97cba5a-2550-4e34-a5e6-dd25d5184d8c",
   "metadata": {},
   "source": [
    "6. If a blank input is entered three times, what does inputStr(limit=3) do?"
   ]
  },
  {
   "cell_type": "markdown",
   "id": "fd34b966-7801-4171-b3ae-1eeb38bd72b6",
   "metadata": {},
   "source": [
    "Answer:The function will raise RetryLimitException."
   ]
  },
  {
   "cell_type": "code",
   "execution_count": 7,
   "id": "eac0cc13-7b4c-448b-9246-416380bf9437",
   "metadata": {},
   "outputs": [
    {
     "name": "stdout",
     "output_type": "stream",
     "text": [
      "Enter an Integer... "
     ]
    },
    {
     "name": "stdin",
     "output_type": "stream",
     "text": [
      " \n"
     ]
    },
    {
     "name": "stdout",
     "output_type": "stream",
     "text": [
      "Blank values are not allowed.\n",
      "Enter an Integer... "
     ]
    },
    {
     "name": "stdin",
     "output_type": "stream",
     "text": [
      " \n"
     ]
    },
    {
     "name": "stdout",
     "output_type": "stream",
     "text": [
      "Blank values are not allowed.\n",
      "Enter an Integer... "
     ]
    },
    {
     "name": "stdin",
     "output_type": "stream",
     "text": [
      " \n"
     ]
    },
    {
     "name": "stdout",
     "output_type": "stream",
     "text": [
      "Blank values are not allowed.\n"
     ]
    },
    {
     "ename": "RetryLimitException",
     "evalue": "",
     "output_type": "error",
     "traceback": [
      "\u001b[0;31m---------------------------------------------------------------------------\u001b[0m",
      "\u001b[0;31mValidationException\u001b[0m                       Traceback (most recent call last)",
      "File \u001b[0;32m/opt/conda/lib/python3.10/site-packages/pyinputplus/__init__.py:167\u001b[0m, in \u001b[0;36m_genericInput\u001b[0;34m(prompt, default, timeout, limit, applyFunc, validationFunc, postValidateApplyFunc, passwordMask)\u001b[0m\n\u001b[1;32m    166\u001b[0m \u001b[38;5;28;01mtry\u001b[39;00m:\n\u001b[0;32m--> 167\u001b[0m     possibleNewUserInput \u001b[38;5;241m=\u001b[39m \u001b[43mvalidationFunc\u001b[49m\u001b[43m(\u001b[49m\n\u001b[1;32m    168\u001b[0m \u001b[43m        \u001b[49m\u001b[43muserInput\u001b[49m\n\u001b[1;32m    169\u001b[0m \u001b[43m    \u001b[49m\u001b[43m)\u001b[49m  \u001b[38;5;66;03m# If validation fails, this function will raise an exception. Returns an updated value to use as user input (e.g. stripped of whitespace, etc.)\u001b[39;00m\n\u001b[1;32m    170\u001b[0m     \u001b[38;5;28;01mif\u001b[39;00m possibleNewUserInput \u001b[38;5;129;01mis\u001b[39;00m \u001b[38;5;129;01mnot\u001b[39;00m \u001b[38;5;28;01mNone\u001b[39;00m:\n",
      "File \u001b[0;32m/opt/conda/lib/python3.10/site-packages/pyinputplus/__init__.py:243\u001b[0m, in \u001b[0;36minputStr.<locals>.<lambda>\u001b[0;34m(value)\u001b[0m\n\u001b[1;32m    241\u001b[0m pysv\u001b[38;5;241m.\u001b[39m_validateGenericParameters(blank, strip, allowRegexes, blockRegexes)\n\u001b[0;32m--> 243\u001b[0m validationFunc \u001b[38;5;241m=\u001b[39m \u001b[38;5;28;01mlambda\u001b[39;00m value: \u001b[43mpysv\u001b[49m\u001b[38;5;241;43m.\u001b[39;49m\u001b[43m_prevalidationCheck\u001b[49m\u001b[43m(\u001b[49m\n\u001b[1;32m    244\u001b[0m \u001b[43m    \u001b[49m\u001b[43mvalue\u001b[49m\u001b[43m,\u001b[49m\u001b[43m \u001b[49m\u001b[43mblank\u001b[49m\u001b[38;5;241;43m=\u001b[39;49m\u001b[43mblank\u001b[49m\u001b[43m,\u001b[49m\u001b[43m \u001b[49m\u001b[43mstrip\u001b[49m\u001b[38;5;241;43m=\u001b[39;49m\u001b[43mstrip\u001b[49m\u001b[43m,\u001b[49m\u001b[43m \u001b[49m\u001b[43mallowRegexes\u001b[49m\u001b[38;5;241;43m=\u001b[39;49m\u001b[43mallowRegexes\u001b[49m\u001b[43m,\u001b[49m\u001b[43m \u001b[49m\u001b[43mblockRegexes\u001b[49m\u001b[38;5;241;43m=\u001b[39;49m\u001b[43mblockRegexes\u001b[49m\u001b[43m,\u001b[49m\u001b[43m \u001b[49m\u001b[43mexcMsg\u001b[49m\u001b[38;5;241;43m=\u001b[39;49m\u001b[38;5;28;43;01mNone\u001b[39;49;00m\u001b[43m,\u001b[49m\n\u001b[1;32m    245\u001b[0m \u001b[43m\u001b[49m\u001b[43m)\u001b[49m[\u001b[38;5;241m1\u001b[39m]\n\u001b[1;32m    247\u001b[0m \u001b[38;5;28;01mreturn\u001b[39;00m _genericInput(\n\u001b[1;32m    248\u001b[0m     prompt\u001b[38;5;241m=\u001b[39mprompt,\n\u001b[1;32m    249\u001b[0m     default\u001b[38;5;241m=\u001b[39mdefault,\n\u001b[0;32m   (...)\u001b[0m\n\u001b[1;32m    254\u001b[0m     validationFunc\u001b[38;5;241m=\u001b[39mvalidationFunc,\n\u001b[1;32m    255\u001b[0m )\n",
      "File \u001b[0;32m/opt/conda/lib/python3.10/site-packages/pysimplevalidate/__init__.py:250\u001b[0m, in \u001b[0;36m_prevalidationCheck\u001b[0;34m(value, blank, strip, allowRegexes, blockRegexes, excMsg)\u001b[0m\n\u001b[1;32m    248\u001b[0m \u001b[38;5;28;01mif\u001b[39;00m \u001b[38;5;129;01mnot\u001b[39;00m blank \u001b[38;5;129;01mand\u001b[39;00m value \u001b[38;5;241m==\u001b[39m \u001b[38;5;124m\"\u001b[39m\u001b[38;5;124m\"\u001b[39m:\n\u001b[1;32m    249\u001b[0m     \u001b[38;5;66;03m# value is blank but blanks aren't allowed.\u001b[39;00m\n\u001b[0;32m--> 250\u001b[0m     \u001b[43m_raiseValidationException\u001b[49m\u001b[43m(\u001b[49m\u001b[43m_\u001b[49m\u001b[43m(\u001b[49m\u001b[38;5;124;43m\"\u001b[39;49m\u001b[38;5;124;43mBlank values are not allowed.\u001b[39;49m\u001b[38;5;124;43m\"\u001b[39;49m\u001b[43m)\u001b[49m\u001b[43m,\u001b[49m\u001b[43m \u001b[49m\u001b[43mexcMsg\u001b[49m\u001b[43m)\u001b[49m\n\u001b[1;32m    251\u001b[0m \u001b[38;5;28;01melif\u001b[39;00m blank \u001b[38;5;129;01mand\u001b[39;00m value \u001b[38;5;241m==\u001b[39m \u001b[38;5;124m\"\u001b[39m\u001b[38;5;124m\"\u001b[39m:\n",
      "File \u001b[0;32m/opt/conda/lib/python3.10/site-packages/pysimplevalidate/__init__.py:222\u001b[0m, in \u001b[0;36m_raiseValidationException\u001b[0;34m(standardExcMsg, customExcMsg)\u001b[0m\n\u001b[1;32m    221\u001b[0m \u001b[38;5;28;01mif\u001b[39;00m customExcMsg \u001b[38;5;129;01mis\u001b[39;00m \u001b[38;5;28;01mNone\u001b[39;00m:\n\u001b[0;32m--> 222\u001b[0m     \u001b[38;5;28;01mraise\u001b[39;00m ValidationException(\u001b[38;5;28mstr\u001b[39m(standardExcMsg))\n\u001b[1;32m    223\u001b[0m \u001b[38;5;28;01melse\u001b[39;00m:\n",
      "\u001b[0;31mValidationException\u001b[0m: Blank values are not allowed.",
      "\nDuring handling of the above exception, another exception occurred:\n",
      "\u001b[0;31mRetryLimitException\u001b[0m                       Traceback (most recent call last)",
      "Cell \u001b[0;32mIn [7], line 1\u001b[0m\n\u001b[0;32m----> 1\u001b[0m \u001b[43mpyip\u001b[49m\u001b[38;5;241;43m.\u001b[39;49m\u001b[43minputStr\u001b[49m\u001b[43m(\u001b[49m\u001b[43mprompt\u001b[49m\u001b[43m \u001b[49m\u001b[38;5;241;43m=\u001b[39;49m\u001b[43m \u001b[49m\u001b[38;5;124;43m\"\u001b[39;49m\u001b[38;5;124;43mEnter an Integer... \u001b[39;49m\u001b[38;5;124;43m\"\u001b[39;49m\u001b[43m,\u001b[49m\u001b[43m \u001b[49m\u001b[43mlimit\u001b[49m\u001b[43m \u001b[49m\u001b[38;5;241;43m=\u001b[39;49m\u001b[43m \u001b[49m\u001b[38;5;241;43m3\u001b[39;49m\u001b[43m)\u001b[49m\n",
      "File \u001b[0;32m/opt/conda/lib/python3.10/site-packages/pyinputplus/__init__.py:247\u001b[0m, in \u001b[0;36minputStr\u001b[0;34m(prompt, default, blank, timeout, limit, strip, allowRegexes, blockRegexes, applyFunc, postValidateApplyFunc)\u001b[0m\n\u001b[1;32m    241\u001b[0m pysv\u001b[38;5;241m.\u001b[39m_validateGenericParameters(blank, strip, allowRegexes, blockRegexes)\n\u001b[1;32m    243\u001b[0m validationFunc \u001b[38;5;241m=\u001b[39m \u001b[38;5;28;01mlambda\u001b[39;00m value: pysv\u001b[38;5;241m.\u001b[39m_prevalidationCheck(\n\u001b[1;32m    244\u001b[0m     value, blank\u001b[38;5;241m=\u001b[39mblank, strip\u001b[38;5;241m=\u001b[39mstrip, allowRegexes\u001b[38;5;241m=\u001b[39mallowRegexes, blockRegexes\u001b[38;5;241m=\u001b[39mblockRegexes, excMsg\u001b[38;5;241m=\u001b[39m\u001b[38;5;28;01mNone\u001b[39;00m,\n\u001b[1;32m    245\u001b[0m )[\u001b[38;5;241m1\u001b[39m]\n\u001b[0;32m--> 247\u001b[0m \u001b[38;5;28;01mreturn\u001b[39;00m \u001b[43m_genericInput\u001b[49m\u001b[43m(\u001b[49m\n\u001b[1;32m    248\u001b[0m \u001b[43m    \u001b[49m\u001b[43mprompt\u001b[49m\u001b[38;5;241;43m=\u001b[39;49m\u001b[43mprompt\u001b[49m\u001b[43m,\u001b[49m\n\u001b[1;32m    249\u001b[0m \u001b[43m    \u001b[49m\u001b[43mdefault\u001b[49m\u001b[38;5;241;43m=\u001b[39;49m\u001b[43mdefault\u001b[49m\u001b[43m,\u001b[49m\n\u001b[1;32m    250\u001b[0m \u001b[43m    \u001b[49m\u001b[43mtimeout\u001b[49m\u001b[38;5;241;43m=\u001b[39;49m\u001b[43mtimeout\u001b[49m\u001b[43m,\u001b[49m\n\u001b[1;32m    251\u001b[0m \u001b[43m    \u001b[49m\u001b[43mlimit\u001b[49m\u001b[38;5;241;43m=\u001b[39;49m\u001b[43mlimit\u001b[49m\u001b[43m,\u001b[49m\n\u001b[1;32m    252\u001b[0m \u001b[43m    \u001b[49m\u001b[43mapplyFunc\u001b[49m\u001b[38;5;241;43m=\u001b[39;49m\u001b[43mapplyFunc\u001b[49m\u001b[43m,\u001b[49m\n\u001b[1;32m    253\u001b[0m \u001b[43m    \u001b[49m\u001b[43mpostValidateApplyFunc\u001b[49m\u001b[38;5;241;43m=\u001b[39;49m\u001b[43mpostValidateApplyFunc\u001b[49m\u001b[43m,\u001b[49m\n\u001b[1;32m    254\u001b[0m \u001b[43m    \u001b[49m\u001b[43mvalidationFunc\u001b[49m\u001b[38;5;241;43m=\u001b[39;49m\u001b[43mvalidationFunc\u001b[49m\u001b[43m,\u001b[49m\n\u001b[1;32m    255\u001b[0m \u001b[43m\u001b[49m\u001b[43m)\u001b[49m\n",
      "File \u001b[0;32m/opt/conda/lib/python3.10/site-packages/pyinputplus/__init__.py:188\u001b[0m, in \u001b[0;36m_genericInput\u001b[0;34m(prompt, default, timeout, limit, applyFunc, validationFunc, postValidateApplyFunc, passwordMask)\u001b[0m\n\u001b[1;32m    185\u001b[0m         \u001b[38;5;28;01mreturn\u001b[39;00m default\n\u001b[1;32m    186\u001b[0m     \u001b[38;5;28;01melse\u001b[39;00m:\n\u001b[1;32m    187\u001b[0m         \u001b[38;5;66;03m# If there is no default, then raise the timeout/limit exception.\u001b[39;00m\n\u001b[0;32m--> 188\u001b[0m         \u001b[38;5;28;01mraise\u001b[39;00m limitOrTimeoutException\n\u001b[1;32m    189\u001b[0m \u001b[38;5;28;01melse\u001b[39;00m:\n\u001b[1;32m    190\u001b[0m     \u001b[38;5;66;03m# If there was no timeout/limit exceeded, let the user enter input again.\u001b[39;00m\n\u001b[1;32m    191\u001b[0m     \u001b[38;5;28;01mcontinue\u001b[39;00m\n",
      "\u001b[0;31mRetryLimitException\u001b[0m: "
     ]
    }
   ],
   "source": [
    "pyip.inputStr(prompt = \"Enter an Integer... \", limit = 3)"
   ]
  },
  {
   "cell_type": "markdown",
   "id": "13eb83fa-18f6-4d15-9e11-ffce8de37713",
   "metadata": {},
   "source": [
    "7. If blank input is entered three times, what does inputStr(limit=3, default=&#39;hello&#39;) do?"
   ]
  },
  {
   "cell_type": "markdown",
   "id": "1419066e-183e-4d32-a004-c3570efe2e13",
   "metadata": {},
   "source": [
    "Answer: The function returns the value 'hello'"
   ]
  },
  {
   "cell_type": "code",
   "execution_count": 8,
   "id": "844b5bcb-fd9c-40ac-a2cf-9b6c09cb73e7",
   "metadata": {},
   "outputs": [
    {
     "name": "stdout",
     "output_type": "stream",
     "text": [
      "Enter an Integer... "
     ]
    },
    {
     "name": "stdin",
     "output_type": "stream",
     "text": [
      " \n"
     ]
    },
    {
     "name": "stdout",
     "output_type": "stream",
     "text": [
      "Blank values are not allowed.\n",
      "Enter an Integer... "
     ]
    },
    {
     "name": "stdin",
     "output_type": "stream",
     "text": [
      " \n"
     ]
    },
    {
     "name": "stdout",
     "output_type": "stream",
     "text": [
      "Blank values are not allowed.\n",
      "Enter an Integer... "
     ]
    },
    {
     "name": "stdin",
     "output_type": "stream",
     "text": [
      " \n"
     ]
    },
    {
     "name": "stdout",
     "output_type": "stream",
     "text": [
      "Blank values are not allowed.\n"
     ]
    },
    {
     "data": {
      "text/plain": [
       "'Hello'"
      ]
     },
     "execution_count": 8,
     "metadata": {},
     "output_type": "execute_result"
    }
   ],
   "source": [
    "pyip.inputStr(prompt = \"Enter an Integer... \", default= \"Hello\", limit = 3)"
   ]
  },
  {
   "cell_type": "code",
   "execution_count": null,
   "id": "5ebf08db-be4c-4598-b9ad-4fd0f19d892e",
   "metadata": {},
   "outputs": [],
   "source": []
  }
 ],
 "metadata": {
  "kernelspec": {
   "display_name": "Python 3 (ipykernel)",
   "language": "python",
   "name": "python3"
  },
  "language_info": {
   "codemirror_mode": {
    "name": "ipython",
    "version": 3
   },
   "file_extension": ".py",
   "mimetype": "text/x-python",
   "name": "python",
   "nbconvert_exporter": "python",
   "pygments_lexer": "ipython3",
   "version": "3.10.6"
  }
 },
 "nbformat": 4,
 "nbformat_minor": 5
}
