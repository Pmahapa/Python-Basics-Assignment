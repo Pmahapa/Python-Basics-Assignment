{
 "cells": [
  {
   "cell_type": "markdown",
   "id": "d65be36f-f4ed-404a-a619-8b90f29c438f",
   "metadata": {},
   "source": [
    "1. Write a Python Program to find sum of array?"
   ]
  },
  {
   "cell_type": "code",
   "execution_count": 4,
   "id": "8fc82916-c804-4262-b9ea-a4296aa92d88",
   "metadata": {},
   "outputs": [
    {
     "data": {
      "text/plain": [
       "25"
      ]
     },
     "execution_count": 4,
     "metadata": {},
     "output_type": "execute_result"
    }
   ],
   "source": [
    "def find_sum(array):\n",
    "    sum_of_array=0\n",
    "    for x in array:\n",
    "        sum_of_array = sum_of_array + x\n",
    "    return sum_of_array\n",
    "    \n",
    "find_sum([4,6,8,4,3])\n",
    "    \n"
   ]
  },
  {
   "cell_type": "markdown",
   "id": "055bb074-171c-482a-baa7-ad634fdfff3c",
   "metadata": {},
   "source": [
    "2. Write a Python Program to find largest element in an array?"
   ]
  },
  {
   "cell_type": "code",
   "execution_count": 11,
   "id": "73527754-530a-48e7-aab9-557d22b7648c",
   "metadata": {},
   "outputs": [
    {
     "data": {
      "text/plain": [
       "765"
      ]
     },
     "execution_count": 11,
     "metadata": {},
     "output_type": "execute_result"
    }
   ],
   "source": [
    "def largest_number(arr):\n",
    "    largest = arr[0]\n",
    "    for x in arr:\n",
    "        if x > largest:\n",
    "            largest = x\n",
    "    return largest\n",
    "\n",
    "largest_number([38,23,87,86,56,765])"
   ]
  },
  {
   "cell_type": "markdown",
   "id": "70f64f72-c1bf-4956-a731-ac599a4517f3",
   "metadata": {},
   "source": [
    "3. Write a Python Program for array rotation?"
   ]
  },
  {
   "cell_type": "code",
   "execution_count": 9,
   "id": "5919ab05-7772-4292-8f45-54acb462a347",
   "metadata": {},
   "outputs": [
    {
     "name": "stdout",
     "output_type": "stream",
     "text": [
      "Array after rotating to the left by 2 positions: [3, 4, 5, 1, 2]\n"
     ]
    }
   ],
   "source": [
    "def rotate_array_left(arr, d):\n",
    "    n = len(arr)\n",
    "    d = d % n  # Handle the case when 'd' is greater than the length of the array\n",
    "    return arr[d:] + arr[:d]\n",
    "\n",
    "# Example usage\n",
    "my_array = [1, 2, 3, 4, 5]\n",
    "rotate_by = 2\n",
    "result = rotate_array_left(my_array, rotate_by)\n",
    "\n",
    "print(\"Array after rotating to the left by\", rotate_by, \"positions:\", result)\n"
   ]
  },
  {
   "cell_type": "markdown",
   "id": "946c9f95-1745-4b50-a895-dbbef4c20334",
   "metadata": {},
   "source": [
    "4. Write a Python Program to Split the array and add the first part to the end?"
   ]
  },
  {
   "cell_type": "code",
   "execution_count": 15,
   "id": "fe639371-4999-4a50-ae3e-8b3b8aa31632",
   "metadata": {},
   "outputs": [
    {
     "data": {
      "text/plain": [
       "[3, 4, 5, 1, 2]"
      ]
     },
     "execution_count": 15,
     "metadata": {},
     "output_type": "execute_result"
    }
   ],
   "source": [
    "def split_and_add_to_end(arr, split_index):\n",
    "    if split_index < 0 or split_index >= len(arr):\n",
    "        print(\"split_index is out of bound\")\n",
    "    return arr[split_index:] + arr[:split_index]\n",
    "\n",
    "my_array = [1, 2, 3, 4, 5]\n",
    "split_index = 2\n",
    "result = split_and_add_to_end(my_array, split_index)\n",
    "\n",
    "split_and_add_to_end(my_array, split_index)"
   ]
  },
  {
   "cell_type": "markdown",
   "id": "04ec8742-e9fe-458a-bfde-0acd4db5e520",
   "metadata": {},
   "source": [
    "5. Write a Python Program to check if given array is Monotonic?"
   ]
  },
  {
   "cell_type": "code",
   "execution_count": 1,
   "id": "40961418-9150-4993-b708-61443a887b45",
   "metadata": {},
   "outputs": [
    {
     "name": "stdout",
     "output_type": "stream",
     "text": [
      "True\n",
      "True\n",
      "False\n"
     ]
    }
   ],
   "source": [
    "def is_monotonic(array):\n",
    "    increasing = decreasing = True\n",
    "    \n",
    "    for i in range(1, len(array)):\n",
    "        if array[i] < array[i - 1]:\n",
    "            increasing = False\n",
    "        if array[i] > array[i - 1]:\n",
    "            decreasing = False\n",
    "    \n",
    "    return increasing or decreasing\n",
    "\n",
    "arr1 = [1, 2, 2, 3]  # Monotonic (non-decreasing)\n",
    "arr2 = [3, 2, 1, 0]  # Monotonic (non-increasing)\n",
    "arr3 = [1, 3, 2, 4]  # Not monotonic\n",
    "\n",
    "print(is_monotonic(arr1))  \n",
    "print(is_monotonic(arr2))  \n",
    "print(is_monotonic(arr3))\n"
   ]
  },
  {
   "cell_type": "code",
   "execution_count": null,
   "id": "4e9c691f-0478-4769-b692-5964c58aa05c",
   "metadata": {},
   "outputs": [],
   "source": []
  }
 ],
 "metadata": {
  "kernelspec": {
   "display_name": "Python 3 (ipykernel)",
   "language": "python",
   "name": "python3"
  },
  "language_info": {
   "codemirror_mode": {
    "name": "ipython",
    "version": 3
   },
   "file_extension": ".py",
   "mimetype": "text/x-python",
   "name": "python",
   "nbconvert_exporter": "python",
   "pygments_lexer": "ipython3",
   "version": "3.10.6"
  }
 },
 "nbformat": 4,
 "nbformat_minor": 5
}
