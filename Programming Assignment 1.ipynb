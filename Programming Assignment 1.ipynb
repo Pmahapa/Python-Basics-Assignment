{
 "cells": [
  {
   "cell_type": "raw",
   "id": "31e62416-5f33-4672-8e77-5a00627b7fb3",
   "metadata": {},
   "source": [
    "1. Write a Python program to print \"Hello Python\"?"
   ]
  },
  {
   "cell_type": "code",
   "execution_count": 3,
   "id": "0c38e697-a000-4926-8b79-b41f1af3aa96",
   "metadata": {},
   "outputs": [
    {
     "name": "stdout",
     "output_type": "stream",
     "text": [
      "Hello Python\n"
     ]
    }
   ],
   "source": [
    "print(\"Hello Python\")"
   ]
  },
  {
   "cell_type": "raw",
   "id": "79dabf2b-edc0-483b-8c3d-a99725c0bcff",
   "metadata": {},
   "source": [
    "2. Write a Python program to do arithmetical operations addition and division.?"
   ]
  },
  {
   "cell_type": "code",
   "execution_count": 4,
   "id": "9f1da86b-4f09-4aaa-88e3-88ce947659be",
   "metadata": {},
   "outputs": [
    {
     "name": "stdout",
     "output_type": "stream",
     "text": [
      "3\n",
      "0.5\n"
     ]
    }
   ],
   "source": [
    "a=1\n",
    "b=2\n",
    "addition = a+b\n",
    "division = a/b\n",
    "print(addition)\n",
    "print(division)"
   ]
  },
  {
   "cell_type": "raw",
   "id": "2c0256e0-1e39-45ca-89e6-4c81ffa39544",
   "metadata": {},
   "source": [
    "3. Write a Python program to find the area of a triangle?"
   ]
  },
  {
   "cell_type": "code",
   "execution_count": 5,
   "id": "0fd618ff-cb68-46f7-9158-bf83fc37f107",
   "metadata": {},
   "outputs": [
    {
     "name": "stdout",
     "output_type": "stream",
     "text": [
      "10.0\n"
     ]
    }
   ],
   "source": [
    "base=4\n",
    "height=5\n",
    "area_of_triangle = (base*height)/2\n",
    "print(area_of_triangle)"
   ]
  },
  {
   "cell_type": "raw",
   "id": "7d6476e4-0507-43fa-b498-7b6eb2f36953",
   "metadata": {},
   "source": [
    "4. Write a Python program to swap two variables?"
   ]
  },
  {
   "cell_type": "code",
   "execution_count": 8,
   "id": "f0c4caad-44f5-47ae-b380-ab2c8c9472c0",
   "metadata": {},
   "outputs": [
    {
     "name": "stdin",
     "output_type": "stream",
     "text": [
      " 5\n",
      " 6\n"
     ]
    },
    {
     "name": "stdout",
     "output_type": "stream",
     "text": [
      "The value of a after swap is: 6\n",
      "The value of b after swap is: 5\n"
     ]
    }
   ],
   "source": [
    "a=int(input())\n",
    "b=int(input())\n",
    "temp=a\n",
    "a=b\n",
    "b=temp\n",
    "print(f\"The value of a after swap is: {a}\")\n",
    "print(f\"The value of b after swap is: {b}\")"
   ]
  },
  {
   "cell_type": "raw",
   "id": "cdfefc5e-4bcf-489b-98e2-906b90053e52",
   "metadata": {},
   "source": [
    "5. Write a Python program to generate a random number?"
   ]
  },
  {
   "cell_type": "code",
   "execution_count": 2,
   "id": "c61829b5-b24b-472e-8016-4f2a099ec1b1",
   "metadata": {},
   "outputs": [
    {
     "name": "stdout",
     "output_type": "stream",
     "text": [
      "Random number between 1 and 100: 94\n"
     ]
    }
   ],
   "source": [
    "import random\n",
    "min_value = 1  \n",
    "max_value = 100 \n",
    "random_number = random.randint(min_value, max_value)\n",
    "print(f\"Random number between {min_value} and {max_value}: {random_number}\")\n"
   ]
  },
  {
   "cell_type": "code",
   "execution_count": null,
   "id": "db899d3c-6572-4178-9d0a-54893b50be8a",
   "metadata": {},
   "outputs": [],
   "source": []
  }
 ],
 "metadata": {
  "kernelspec": {
   "display_name": "Python 3 (ipykernel)",
   "language": "python",
   "name": "python3"
  },
  "language_info": {
   "codemirror_mode": {
    "name": "ipython",
    "version": 3
   },
   "file_extension": ".py",
   "mimetype": "text/x-python",
   "name": "python",
   "nbconvert_exporter": "python",
   "pygments_lexer": "ipython3",
   "version": "3.10.6"
  }
 },
 "nbformat": 4,
 "nbformat_minor": 5
}
