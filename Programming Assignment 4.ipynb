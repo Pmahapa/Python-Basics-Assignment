{
 "cells": [
  {
   "cell_type": "raw",
   "id": "454f6086-c63e-4bcd-a58f-686a9f05c079",
   "metadata": {},
   "source": [
    "1. Write a Python Program to Find the Factorial of a Number?"
   ]
  },
  {
   "cell_type": "code",
   "execution_count": 5,
   "id": "2e6299fb-59ec-4b2d-8b7a-1b080106ceb7",
   "metadata": {},
   "outputs": [
    {
     "name": "stdin",
     "output_type": "stream",
     "text": [
      "Enter a number: 6\n"
     ]
    },
    {
     "name": "stdout",
     "output_type": "stream",
     "text": [
      "Factorial of 6 is 720\n"
     ]
    }
   ],
   "source": [
    "factorial=1\n",
    "n=int(input(\"Enter a number:\"))\n",
    "if n<0:\n",
    "    print(\"Factorial does not exist for negative numbers\")\n",
    "elif n==0:\n",
    "    print(f\"Factorial of {n} is 1\")\n",
    "else:\n",
    "    for i in range(1,n+1):\n",
    "        factorial = factorial * i\n",
    "    print(f\"Factorial of {n} is {factorial}\")\n",
    "    "
   ]
  },
  {
   "cell_type": "raw",
   "id": "ceb4c543-3d4a-4b9f-904a-be03eef02d46",
   "metadata": {},
   "source": [
    "2. Write a Python Program to Display the multiplication Table?"
   ]
  },
  {
   "cell_type": "code",
   "execution_count": 10,
   "id": "49c10269-2073-4075-b787-e1049c3826ca",
   "metadata": {},
   "outputs": [
    {
     "name": "stdin",
     "output_type": "stream",
     "text": [
      "Enter a number: 2\n"
     ]
    },
    {
     "name": "stdout",
     "output_type": "stream",
     "text": [
      "2*1=2\n",
      "2*2=4\n",
      "2*3=6\n",
      "2*4=8\n",
      "2*5=10\n",
      "2*6=12\n",
      "2*7=14\n",
      "2*8=16\n",
      "2*9=18\n",
      "2*10=20\n"
     ]
    }
   ],
   "source": [
    "n= int(input(\"Enter a number:\"))\n",
    "for i in range(1,11):\n",
    "    c=n*i\n",
    "    print(f\"{n}*{i}={c}\")"
   ]
  },
  {
   "cell_type": "raw",
   "id": "56046aeb-80b7-499a-aac3-aee7aaeaa37d",
   "metadata": {},
   "source": [
    "3. Write a Python Program to Print the Fibonacci sequence?"
   ]
  },
  {
   "cell_type": "code",
   "execution_count": 12,
   "id": "736849e0-c9fb-4eef-9857-8e50036c0594",
   "metadata": {},
   "outputs": [
    {
     "name": "stdin",
     "output_type": "stream",
     "text": [
      "Enter a number: 5\n"
     ]
    },
    {
     "name": "stdout",
     "output_type": "stream",
     "text": [
      "0+5=5\n",
      "1+5=6\n",
      "2+5=7\n",
      "3+5=8\n",
      "4+5=9\n"
     ]
    }
   ],
   "source": [
    "n=int(input(\"Enter a number:\"))\n",
    "for i in range(0,n):\n",
    "    a=i+n\n",
    "    print(f\"{i}+{n}={a}\")"
   ]
  },
  {
   "cell_type": "code",
   "execution_count": 17,
   "id": "7883490d-0bc3-4c5a-840a-2a159e436582",
   "metadata": {},
   "outputs": [
    {
     "name": "stdin",
     "output_type": "stream",
     "text": [
      "Enter a number: 7\n"
     ]
    },
    {
     "name": "stdout",
     "output_type": "stream",
     "text": [
      "[0, 1, 1, 2, 3, 5, 8]\n"
     ]
    }
   ],
   "source": [
    "n=int(input(\"Enter a number:\"))\n",
    "fib=[0,1]\n",
    "for i in range(2,n):\n",
    "    fib.append(fib[i-2]+fib[i-1])\n",
    "print(fib)"
   ]
  },
  {
   "cell_type": "raw",
   "id": "0cce031d-966a-4d46-8f0e-f8190861b992",
   "metadata": {},
   "source": [
    "4. Write a Python Program to Check Armstrong Number?"
   ]
  },
  {
   "cell_type": "code",
   "execution_count": 22,
   "id": "d10ad4cd-7c8a-43c6-a1e7-d90b507200c7",
   "metadata": {},
   "outputs": [
    {
     "name": "stdin",
     "output_type": "stream",
     "text": [
      "Enter a number: 1634\n"
     ]
    },
    {
     "name": "stdout",
     "output_type": "stream",
     "text": [
      "1634\n",
      "1634 is an armstrong number\n"
     ]
    }
   ],
   "source": [
    "num=int(input(\"Enter a number:\"))\n",
    "num_str= str(num)\n",
    "digit_count=len(num_str)\n",
    "total_sum=0\n",
    "for char in num_str:\n",
    "    total_sum = total_sum + (int(char)**digit_count)\n",
    "print(total_sum)\n",
    "if num==total_sum:\n",
    "    print(f\"{num} is an armstrong number\")\n",
    "else:\n",
    "    print(f\"{num} is not an armstrong number\")\n",
    "    \n",
    "    \n",
    "\n"
   ]
  },
  {
   "cell_type": "raw",
   "id": "1fa1f6d0-6af7-43d4-b2af-7b63558f01a2",
   "metadata": {},
   "source": [
    "5. Write a Python Program to Find Armstrong Number in an Interval?"
   ]
  },
  {
   "cell_type": "code",
   "execution_count": 24,
   "id": "caf1b0bd-ad61-4bb6-aa08-a7975662501d",
   "metadata": {},
   "outputs": [
    {
     "name": "stdout",
     "output_type": "stream",
     "text": [
      "1\n",
      "2\n",
      "3\n",
      "4\n",
      "5\n",
      "6\n",
      "7\n",
      "8\n",
      "9\n",
      "153\n",
      "370\n",
      "371\n",
      "407\n",
      "1634\n"
     ]
    }
   ],
   "source": [
    "def is_armstrong(num):\n",
    "    num_str= str(num)\n",
    "    digit_count=len(num_str)\n",
    "    total_sum=0\n",
    "    for char in num_str:\n",
    "        total_sum = total_sum + (int(char)**digit_count)\n",
    "    # print(total_sum)\n",
    "    if num==total_sum:\n",
    "        return True\n",
    "    else:\n",
    "        return False\n",
    "    \n",
    "is_armstrong(1634)\n",
    "for i in range(1,5000):\n",
    "    if is_armstrong(i):\n",
    "        print(i)\n",
    "    "
   ]
  },
  {
   "cell_type": "raw",
   "id": "6ef58648-dc4a-47c3-b450-2e2fbf371038",
   "metadata": {},
   "source": [
    "6. Write a Python Program to Find the Sum of Natural Numbers?"
   ]
  },
  {
   "cell_type": "code",
   "execution_count": 26,
   "id": "50e78e13-55ce-4bb1-8c2a-9c76ca2c8306",
   "metadata": {},
   "outputs": [
    {
     "name": "stdin",
     "output_type": "stream",
     "text": [
      "Enter a number: 60\n"
     ]
    },
    {
     "name": "stdout",
     "output_type": "stream",
     "text": [
      "1830\n"
     ]
    }
   ],
   "source": [
    "n=int(input(\"Enter a number:\"))\n",
    "sum=0\n",
    "for i in range(1,n+1):\n",
    "    sum=sum+i\n",
    "print(sum)"
   ]
  },
  {
   "cell_type": "code",
   "execution_count": null,
   "id": "f1038ee1-a3f0-422a-b363-58790d02179a",
   "metadata": {},
   "outputs": [],
   "source": []
  }
 ],
 "metadata": {
  "kernelspec": {
   "display_name": "Python 3 (ipykernel)",
   "language": "python",
   "name": "python3"
  },
  "language_info": {
   "codemirror_mode": {
    "name": "ipython",
    "version": 3
   },
   "file_extension": ".py",
   "mimetype": "text/x-python",
   "name": "python",
   "nbconvert_exporter": "python",
   "pygments_lexer": "ipython3",
   "version": "3.10.6"
  }
 },
 "nbformat": 4,
 "nbformat_minor": 5
}
